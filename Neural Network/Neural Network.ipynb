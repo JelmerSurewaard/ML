{
 "cells": [
  {
   "cell_type": "code",
   "execution_count": 236,
   "source": [
    "import pandas as pd\r\n",
    "import matplotlib.pyplot as plt\r\n",
    "import numpy as np\r\n",
    "import seaborn as sns\r\n",
    "\r\n",
    "df = pd.read_csv('winequality-red.csv')\r\n",
    "df[df.columns.difference(['density', 'chlorides'])] = df[df.columns.difference(['density', 'chlorides'])].round(2)\r\n",
    "df['density'] = df['density'].round(5)\r\n",
    "\r\n",
    "df.head()"
   ],
   "outputs": [
    {
     "output_type": "execute_result",
     "data": {
      "text/html": [
       "<div>\n",
       "<style scoped>\n",
       "    .dataframe tbody tr th:only-of-type {\n",
       "        vertical-align: middle;\n",
       "    }\n",
       "\n",
       "    .dataframe tbody tr th {\n",
       "        vertical-align: top;\n",
       "    }\n",
       "\n",
       "    .dataframe thead th {\n",
       "        text-align: right;\n",
       "    }\n",
       "</style>\n",
       "<table border=\"1\" class=\"dataframe\">\n",
       "  <thead>\n",
       "    <tr style=\"text-align: right;\">\n",
       "      <th></th>\n",
       "      <th>fixed acidity</th>\n",
       "      <th>volatile acidity</th>\n",
       "      <th>citric acid</th>\n",
       "      <th>residual sugar</th>\n",
       "      <th>chlorides</th>\n",
       "      <th>free sulfur dioxide</th>\n",
       "      <th>total sulfur dioxide</th>\n",
       "      <th>density</th>\n",
       "      <th>pH</th>\n",
       "      <th>sulphates</th>\n",
       "      <th>alcohol</th>\n",
       "      <th>quality</th>\n",
       "    </tr>\n",
       "  </thead>\n",
       "  <tbody>\n",
       "    <tr>\n",
       "      <th>0</th>\n",
       "      <td>7.4</td>\n",
       "      <td>0.70</td>\n",
       "      <td>0.00</td>\n",
       "      <td>1.9</td>\n",
       "      <td>0.076</td>\n",
       "      <td>11.0</td>\n",
       "      <td>34.0</td>\n",
       "      <td>0.9978</td>\n",
       "      <td>3.51</td>\n",
       "      <td>0.56</td>\n",
       "      <td>9.4</td>\n",
       "      <td>5</td>\n",
       "    </tr>\n",
       "    <tr>\n",
       "      <th>1</th>\n",
       "      <td>7.8</td>\n",
       "      <td>0.88</td>\n",
       "      <td>0.00</td>\n",
       "      <td>2.6</td>\n",
       "      <td>0.098</td>\n",
       "      <td>25.0</td>\n",
       "      <td>67.0</td>\n",
       "      <td>0.9968</td>\n",
       "      <td>3.20</td>\n",
       "      <td>0.68</td>\n",
       "      <td>9.8</td>\n",
       "      <td>5</td>\n",
       "    </tr>\n",
       "    <tr>\n",
       "      <th>2</th>\n",
       "      <td>7.8</td>\n",
       "      <td>0.76</td>\n",
       "      <td>0.04</td>\n",
       "      <td>2.3</td>\n",
       "      <td>0.092</td>\n",
       "      <td>15.0</td>\n",
       "      <td>54.0</td>\n",
       "      <td>0.9970</td>\n",
       "      <td>3.26</td>\n",
       "      <td>0.65</td>\n",
       "      <td>9.8</td>\n",
       "      <td>5</td>\n",
       "    </tr>\n",
       "    <tr>\n",
       "      <th>3</th>\n",
       "      <td>11.2</td>\n",
       "      <td>0.28</td>\n",
       "      <td>0.56</td>\n",
       "      <td>1.9</td>\n",
       "      <td>0.075</td>\n",
       "      <td>17.0</td>\n",
       "      <td>60.0</td>\n",
       "      <td>0.9980</td>\n",
       "      <td>3.16</td>\n",
       "      <td>0.58</td>\n",
       "      <td>9.8</td>\n",
       "      <td>6</td>\n",
       "    </tr>\n",
       "    <tr>\n",
       "      <th>4</th>\n",
       "      <td>7.4</td>\n",
       "      <td>0.70</td>\n",
       "      <td>0.00</td>\n",
       "      <td>1.9</td>\n",
       "      <td>0.076</td>\n",
       "      <td>11.0</td>\n",
       "      <td>34.0</td>\n",
       "      <td>0.9978</td>\n",
       "      <td>3.51</td>\n",
       "      <td>0.56</td>\n",
       "      <td>9.4</td>\n",
       "      <td>5</td>\n",
       "    </tr>\n",
       "  </tbody>\n",
       "</table>\n",
       "</div>"
      ],
      "text/plain": [
       "   fixed acidity  volatile acidity  citric acid  residual sugar  chlorides  \\\n",
       "0            7.4              0.70         0.00             1.9      0.076   \n",
       "1            7.8              0.88         0.00             2.6      0.098   \n",
       "2            7.8              0.76         0.04             2.3      0.092   \n",
       "3           11.2              0.28         0.56             1.9      0.075   \n",
       "4            7.4              0.70         0.00             1.9      0.076   \n",
       "\n",
       "   free sulfur dioxide  total sulfur dioxide  density    pH  sulphates  \\\n",
       "0                 11.0                  34.0   0.9978  3.51       0.56   \n",
       "1                 25.0                  67.0   0.9968  3.20       0.68   \n",
       "2                 15.0                  54.0   0.9970  3.26       0.65   \n",
       "3                 17.0                  60.0   0.9980  3.16       0.58   \n",
       "4                 11.0                  34.0   0.9978  3.51       0.56   \n",
       "\n",
       "   alcohol  quality  \n",
       "0      9.4        5  \n",
       "1      9.8        5  \n",
       "2      9.8        5  \n",
       "3      9.8        6  \n",
       "4      9.4        5  "
      ]
     },
     "metadata": {},
     "execution_count": 236
    }
   ],
   "metadata": {}
  },
  {
   "cell_type": "code",
   "execution_count": 237,
   "source": [
    "# standard deviation data modification\r\n",
    "\r\n",
    "df['zscore']=((df['citric acid']-df['citric acid'].mean())/df['citric acid'].std())\r\n",
    "filt=np.abs(df['zscore'])<3\r\n",
    "data=df[filt]\r\n",
    "\r\n",
    "df['zscore2']=((df['alcohol']-df['alcohol'].mean())/df['alcohol'].std())\r\n",
    "filt=np.abs(df['zscore2'])<3\r\n",
    "df=df[filt]\r\n",
    "df['zscore3']=((df['total sulfur dioxide']-df['total sulfur dioxide'].mean())/df['total sulfur dioxide'].std())\r\n",
    "filt=np.abs(df['zscore3'])<3\r\n",
    "df=df[filt]\r\n",
    "\r\n",
    "X=df.drop(['quality','zscore','zscore2','free sulfur dioxide','zscore3'],axis=1)\r\n",
    "y=df['quality']\r\n",
    "X.columns\r\n"
   ],
   "outputs": [
    {
     "output_type": "execute_result",
     "data": {
      "text/plain": [
       "Index(['fixed acidity', 'volatile acidity', 'citric acid', 'residual sugar',\n",
       "       'chlorides', 'total sulfur dioxide', 'density', 'pH', 'sulphates',\n",
       "       'alcohol'],\n",
       "      dtype='object')"
      ]
     },
     "metadata": {},
     "execution_count": 237
    }
   ],
   "metadata": {}
  },
  {
   "cell_type": "code",
   "execution_count": 238,
   "source": [
    "def convert_quality(quality):\r\n",
    "    if quality == 3 or quality == 4:\r\n",
    "        return 0\r\n",
    "    elif quality == 5 or quality == 6:\r\n",
    "        return 1  \r\n",
    "    else:\r\n",
    "        return 2"
   ],
   "outputs": [],
   "metadata": {}
  },
  {
   "cell_type": "code",
   "execution_count": 239,
   "source": [
    "from sklearn.model_selection import train_test_split\r\n",
    "from tensorflow.keras.utils import to_categorical\r\n",
    "\r\n",
    "#X = df[df.columns.difference(['quality'])]\r\n",
    "\r\n",
    "y = y.apply(convert_quality)\r\n",
    "X_train, X_test, y_train, y_test = train_test_split(X.values, y, test_size=0.3)\r\n",
    "y_train = to_categorical(y_train, 4)\r\n",
    "y_test = to_categorical(y_test, 4)\r\n"
   ],
   "outputs": [],
   "metadata": {}
  },
  {
   "cell_type": "code",
   "execution_count": 240,
   "source": [
    "from tensorflow.keras.models import Sequential\r\n",
    "from tensorflow.keras.layers import Dense\r\n",
    "from tensorflow.keras.optimizers import Adam\r\n",
    "\r\n",
    "model = Sequential()\r\n",
    "model.add(Dense(3, input_shape=(10,), activation='relu'))\r\n",
    "model.add(Dense(3, activation='relu'))\r\n",
    "model.add(Dense(4, activation='softmax'))\r\n",
    "model.compile(Adam(learning_rate=0.0005), loss='categorical_crossentropy', metrics=['accuracy'])"
   ],
   "outputs": [],
   "metadata": {}
  },
  {
   "cell_type": "code",
   "execution_count": 241,
   "source": [
    "from livelossplot import PlotLossesKeras\r\n",
    "\r\n",
    "history = model.fit(X_train, y_train, epochs=50)\r\n",
    "pd.DataFrame(history.history).plot(figsize=(25,10))\r\n",
    "plt.show()\r\n",
    "y_pred = model.predict(X_test)"
   ],
   "outputs": [
    {
     "output_type": "stream",
     "name": "stdout",
     "text": [
      "Epoch 1/50\n",
      "35/35 [==============================] - 0s 429us/step - loss: 4.2779 - accuracy: 0.8187\n",
      "Epoch 2/50\n",
      "35/35 [==============================] - 0s 457us/step - loss: 3.7419 - accuracy: 0.8187\n",
      "Epoch 3/50\n",
      "35/35 [==============================] - 0s 486us/step - loss: 3.2596 - accuracy: 0.8187\n",
      "Epoch 4/50\n",
      "35/35 [==============================] - 0s 429us/step - loss: 2.8187 - accuracy: 0.8187\n",
      "Epoch 5/50\n",
      "35/35 [==============================] - 0s 429us/step - loss: 2.4298 - accuracy: 0.8187\n",
      "Epoch 6/50\n",
      "35/35 [==============================] - 0s 429us/step - loss: 2.0855 - accuracy: 0.8178\n",
      "Epoch 7/50\n",
      "35/35 [==============================] - 0s 429us/step - loss: 1.8079 - accuracy: 0.8141\n",
      "Epoch 8/50\n",
      "35/35 [==============================] - 0s 429us/step - loss: 1.5955 - accuracy: 0.7978\n",
      "Epoch 9/50\n",
      "35/35 [==============================] - 0s 457us/step - loss: 1.4286 - accuracy: 0.7860\n",
      "Epoch 10/50\n",
      "35/35 [==============================] - 0s 457us/step - loss: 1.3042 - accuracy: 0.7851\n",
      "Epoch 11/50\n",
      "35/35 [==============================] - 0s 429us/step - loss: 1.1989 - accuracy: 0.7933\n",
      "Epoch 12/50\n",
      "35/35 [==============================] - 0s 457us/step - loss: 1.1100 - accuracy: 0.8033\n",
      "Epoch 13/50\n",
      "35/35 [==============================] - 0s 429us/step - loss: 1.0351 - accuracy: 0.8096\n",
      "Epoch 14/50\n",
      "35/35 [==============================] - 0s 457us/step - loss: 0.9709 - accuracy: 0.8169\n",
      "Epoch 15/50\n",
      "35/35 [==============================] - 0s 457us/step - loss: 0.9173 - accuracy: 0.8160\n",
      "Epoch 16/50\n",
      "35/35 [==============================] - 0s 457us/step - loss: 0.8709 - accuracy: 0.8150\n",
      "Epoch 17/50\n",
      "35/35 [==============================] - 0s 457us/step - loss: 0.8324 - accuracy: 0.8150\n",
      "Epoch 18/50\n",
      "35/35 [==============================] - 0s 457us/step - loss: 0.8005 - accuracy: 0.8150\n",
      "Epoch 19/50\n",
      "35/35 [==============================] - 0s 429us/step - loss: 0.7719 - accuracy: 0.8150\n",
      "Epoch 20/50\n",
      "35/35 [==============================] - 0s 457us/step - loss: 0.7476 - accuracy: 0.8150\n",
      "Epoch 21/50\n",
      "35/35 [==============================] - 0s 429us/step - loss: 0.7255 - accuracy: 0.8160\n",
      "Epoch 22/50\n",
      "35/35 [==============================] - 0s 486us/step - loss: 0.7082 - accuracy: 0.8150\n",
      "Epoch 23/50\n",
      "35/35 [==============================] - 0s 429us/step - loss: 0.6915 - accuracy: 0.8150\n",
      "Epoch 24/50\n",
      "35/35 [==============================] - 0s 457us/step - loss: 0.6794 - accuracy: 0.8169\n",
      "Epoch 25/50\n",
      "35/35 [==============================] - 0s 457us/step - loss: 0.6660 - accuracy: 0.8178\n",
      "Epoch 26/50\n",
      "35/35 [==============================] - 0s 429us/step - loss: 0.6577 - accuracy: 0.8178\n",
      "Epoch 27/50\n",
      "35/35 [==============================] - 0s 429us/step - loss: 0.6473 - accuracy: 0.8187\n",
      "Epoch 28/50\n",
      "35/35 [==============================] - 0s 429us/step - loss: 0.6397 - accuracy: 0.8196\n",
      "Epoch 29/50\n",
      "35/35 [==============================] - 0s 457us/step - loss: 0.6331 - accuracy: 0.8196\n",
      "Epoch 30/50\n",
      "35/35 [==============================] - 0s 429us/step - loss: 0.6287 - accuracy: 0.8196\n",
      "Epoch 31/50\n",
      "35/35 [==============================] - 0s 429us/step - loss: 0.6217 - accuracy: 0.8196\n",
      "Epoch 32/50\n",
      "35/35 [==============================] - 0s 429us/step - loss: 0.6172 - accuracy: 0.8196\n",
      "Epoch 33/50\n",
      "35/35 [==============================] - 0s 426us/step - loss: 0.6126 - accuracy: 0.8187\n",
      "Epoch 34/50\n",
      "35/35 [==============================] - 0s 429us/step - loss: 0.6093 - accuracy: 0.8187\n",
      "Epoch 35/50\n",
      "35/35 [==============================] - 0s 457us/step - loss: 0.6059 - accuracy: 0.8187\n",
      "Epoch 36/50\n",
      "35/35 [==============================] - 0s 457us/step - loss: 0.6033 - accuracy: 0.8187\n",
      "Epoch 37/50\n",
      "35/35 [==============================] - 0s 429us/step - loss: 0.6004 - accuracy: 0.8187\n",
      "Epoch 38/50\n",
      "35/35 [==============================] - 0s 457us/step - loss: 0.5977 - accuracy: 0.8187\n",
      "Epoch 39/50\n",
      "35/35 [==============================] - 0s 486us/step - loss: 0.5955 - accuracy: 0.8187\n",
      "Epoch 40/50\n",
      "35/35 [==============================] - 0s 486us/step - loss: 0.5932 - accuracy: 0.8187\n",
      "Epoch 41/50\n",
      "35/35 [==============================] - 0s 486us/step - loss: 0.5922 - accuracy: 0.8187\n",
      "Epoch 42/50\n",
      "35/35 [==============================] - 0s 514us/step - loss: 0.5890 - accuracy: 0.8187\n",
      "Epoch 43/50\n",
      "35/35 [==============================] - 0s 457us/step - loss: 0.5868 - accuracy: 0.8187\n",
      "Epoch 44/50\n",
      "35/35 [==============================] - 0s 543us/step - loss: 0.5861 - accuracy: 0.8187\n",
      "Epoch 45/50\n",
      "35/35 [==============================] - 0s 543us/step - loss: 0.5833 - accuracy: 0.8187\n",
      "Epoch 46/50\n",
      "35/35 [==============================] - 0s 657us/step - loss: 0.5820 - accuracy: 0.8187\n",
      "Epoch 47/50\n",
      "35/35 [==============================] - 0s 457us/step - loss: 0.5808 - accuracy: 0.8187\n",
      "Epoch 48/50\n",
      "35/35 [==============================] - 0s 457us/step - loss: 0.5791 - accuracy: 0.8187\n",
      "Epoch 49/50\n",
      "35/35 [==============================] - 0s 457us/step - loss: 0.5773 - accuracy: 0.8187\n",
      "Epoch 50/50\n",
      "35/35 [==============================] - 0s 429us/step - loss: 0.5762 - accuracy: 0.8187\n"
     ]
    },
    {
     "output_type": "display_data",
     "data": {
      "image/png": "[encoded data removed]",
      "text/plain": [
       "<Figure size 1800x720 with 1 Axes>"
      ]
     },
     "metadata": {
      "needs_background": "light"
     }
    }
   ],
   "metadata": {}
  },
  {
   "cell_type": "code",
   "execution_count": 242,
   "source": [
    "sns.barplot(data=y_pred)"
   ],
   "outputs": [
    {
     "output_type": "execute_result",
     "data": {
      "text/plain": [
       "<AxesSubplot:>"
      ]
     },
     "metadata": {},
     "execution_count": 242
    },
    {
     "output_type": "display_data",
     "data": {
      "image/png": "[encoded data removed]",
      "text/plain": [
       "<Figure size 432x288 with 1 Axes>"
      ]
     },
     "metadata": {
      "needs_background": "light"
     }
    }
   ],
   "metadata": {}
  },
  {
   "cell_type": "code",
   "execution_count": 243,
   "source": [
    "results = model.evaluate(X_train, y_train)\r\n",
    "results"
   ],
   "outputs": [
    {
     "output_type": "stream",
     "name": "stdout",
     "text": [
      "35/35 [==============================] - 0s 372us/step - loss: 0.5748 - accuracy: 0.8187\n"
     ]
    },
    {
     "output_type": "execute_result",
     "data": {
      "text/plain": [
       "[0.5747621059417725, 0.8186763525009155]"
      ]
     },
     "metadata": {},
     "execution_count": 243
    }
   ],
   "metadata": {}
  },
  {
   "cell_type": "code",
   "execution_count": 244,
   "source": [
    "results = model.evaluate(X_test, y_test)\r\n",
    "results"
   ],
   "outputs": [
    {
     "output_type": "stream",
     "name": "stdout",
     "text": [
      "15/15 [==============================] - 0s 400us/step - loss: 0.5246 - accuracy: 0.8414\n"
     ]
    },
    {
     "output_type": "execute_result",
     "data": {
      "text/plain": [
       "[0.5245940685272217, 0.8414376378059387]"
      ]
     },
     "metadata": {},
     "execution_count": 244
    }
   ],
   "metadata": {}
  },
  {
   "cell_type": "code",
   "execution_count": 245,
   "source": [
    "model.save('NN_Model')\r\n",
    "print(model.get_weights())"
   ],
   "outputs": [
    {
     "output_type": "stream",
     "name": "stdout",
     "text": [
      "INFO:tensorflow:Assets written to: NN_Model\\assets\n",
      "[array([[-0.40871024,  0.04284511,  0.5278104 ],\n",
      "       [ 0.05307254, -0.5861613 , -0.45373818],\n",
      "       [-0.39858225,  0.5091175 , -0.30441016],\n",
      "       [-0.2412887 ,  0.01634342,  0.20708771],\n",
      "       [ 0.2041994 , -0.6672563 , -0.27725327],\n",
      "       [ 0.15656185,  0.3621952 ,  0.42297226],\n",
      "       [-0.52591306,  0.3391591 , -0.62891304],\n",
      "       [ 0.11179046, -0.540645  , -0.4972751 ],\n",
      "       [-0.31367978,  0.56074053, -0.08209932],\n",
      "       [ 0.01851963, -0.5030767 , -0.27751926]], dtype=float32), array([-0.12558007, -0.18733118,  0.01970894], dtype=float32), array([[ 0.48561132,  0.66095215,  0.75766   ],\n",
      "       [ 0.24478616, -0.57872146, -0.5348668 ],\n",
      "       [-0.23772031,  0.37165645, -0.8346993 ]], dtype=float32), array([-0.28142357,  0.01925109,  0.05854682], dtype=float32), array([[-0.15073271, -0.34402436, -0.3750911 , -0.2618981 ],\n",
      "       [ 0.00488423,  0.6635992 , -0.15888476, -1.5222377 ],\n",
      "       [-0.9698572 , -0.8004321 , -0.6356445 , -0.8817498 ]],\n",
      "      dtype=float32), array([-0.58376527,  0.13113159,  0.40780848, -0.6967425 ], dtype=float32)]\n"
     ]
    }
   ],
   "metadata": {}
  }
 ],
 "metadata": {
  "orig_nbformat": 4,
  "language_info": {
   "name": "python",
   "version": "3.8.11",
   "mimetype": "text/x-python",
   "codemirror_mode": {
    "name": "ipython",
    "version": 3
   },
   "pygments_lexer": "ipython3",
   "nbconvert_exporter": "python",
   "file_extension": ".py"
  },
  "kernelspec": {
   "name": "python3",
   "display_name": "Python 3.8.11 64-bit ('NN': conda)"
  },
  "interpreter": {
   "hash": "eb06066e11da8a3cb1b86b27489618d5e874b7493bda3cdbb67a9bd8e7708474"
  }
 },
 "nbformat": 4,
 "nbformat_minor": 2
}