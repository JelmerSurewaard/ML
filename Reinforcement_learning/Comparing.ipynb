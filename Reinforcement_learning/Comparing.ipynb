{
 "cells": [
  {
   "cell_type": "markdown",
   "metadata": {},
   "source": [
    "ML 4 Mini project Snake\n",
    "\n",
    "Begonnen met onderzoeken van Snake met SB3 door verschillende reward functies te testen met DQN\n",
    "Leverde erg matige resultaten op\n",
    "Reward functie met het beste resultaat in SB3"
   ]
  },
  {
   "cell_type": "code",
   "execution_count": 4,
   "metadata": {},
   "outputs": [],
   "source": [
    "def food_reward(event, step_amount, apple_count, coord):\n",
    "    \n",
    "    if event == 1:\n",
    "        return 250\n",
    "    if event == -1:\n",
    "        print(\"I ate \" + str(apple_count) + \" apples this game\")\n",
    "        return -1000\n",
    "\n",
    "    snake_head = np.where(coord == 3)\n",
    "    fruit_pos = np.where(coord == 1)\n",
    "    \n",
    "    if snake_head[0].size != 0:\n",
    "        pos_x = snake_head[0][0]\n",
    "        pos_y = snake_head[1][0]\n",
    "        if fruit_pos[0].size != 0:\n",
    "            fruit_x = fruit_pos[0][0]\n",
    "            fruit_y = fruit_pos[1][0]\n",
    "\n",
    "            dis = abs(fruit_x - pos_x) + abs(fruit_y - pos_y)\n",
    "\n",
    "            #print(\"dis: \" + str(dis))\n",
    "            \n",
    "            #print(\"result: \" + str(result))\n",
    "            return -dis\n",
    "\n",
    "    return 0"
   ]
  },
  {
   "cell_type": "markdown",
   "metadata": {},
   "source": [
    "![SB3 Snake](SB3_Snake.gif)"
   ]
  },
  {
   "cell_type": "markdown",
   "metadata": {},
   "source": [
    "Hierna zijn we overgestapt na SB2 naar het advies van Erco\n",
    "Met SB2 kregen we een heel stuk betere resultaten\n",
    "\n",
    "Met SB2 kregen we met DQN geen goede resultaten "
   ]
  },
  {
   "cell_type": "markdown",
   "metadata": {},
   "source": [
    "SB2 met een PPO Agent met de base reward functie waar:\n",
    "- eten van een snoepje is +1\n",
    "- dood gaan is -1\n",
    "- niks is 0\n",
    "\n",
    "![SB2 Snake PPO](SB2_Snake_PPO.gif)"
   ]
  }
 ],
 "metadata": {
  "interpreter": {
   "hash": "d1a2bbe61f6a80771386be97c88758285231adb5de96b3acd623cf790785d5a7"
  },
  "kernelspec": {
   "display_name": "Python 3.7.11 64-bit ('StableBaselines2': conda)",
   "name": "python3"
  },
  "language_info": {
   "codemirror_mode": {
    "name": "ipython",
    "version": 3
   },
   "file_extension": ".py",
   "mimetype": "text/x-python",
   "name": "python",
   "nbconvert_exporter": "python",
   "pygments_lexer": "ipython3",
   "version": "3.7.11"
  },
  "orig_nbformat": 4
 },
 "nbformat": 4,
 "nbformat_minor": 2
}
