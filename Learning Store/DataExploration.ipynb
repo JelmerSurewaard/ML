{
 "cells": [
  {
   "cell_type": "code",
   "execution_count": 40,
   "metadata": {},
   "outputs": [],
   "source": [
    "import pandas as pd\n",
    "import numpy as np\n",
    "from sklearn import feature_extraction\n",
    "from sklearn.metrics.pairwise import cosine_similarity\n"
   ]
  },
  {
   "cell_type": "code",
   "execution_count": 41,
   "metadata": {},
   "outputs": [
    {
     "data": {
      "text/html": [
       "<div>\n",
       "<style scoped>\n",
       "    .dataframe tbody tr th:only-of-type {\n",
       "        vertical-align: middle;\n",
       "    }\n",
       "\n",
       "    .dataframe tbody tr th {\n",
       "        vertical-align: top;\n",
       "    }\n",
       "\n",
       "    .dataframe thead th {\n",
       "        text-align: right;\n",
       "    }\n",
       "</style>\n",
       "<table border=\"1\" class=\"dataframe\">\n",
       "  <thead>\n",
       "    <tr style=\"text-align: right;\">\n",
       "      <th></th>\n",
       "      <th>ID</th>\n",
       "      <th>Title</th>\n",
       "      <th>Description</th>\n",
       "      <th>Objectives</th>\n",
       "      <th>Solutions</th>\n",
       "      <th>Duration</th>\n",
       "    </tr>\n",
       "  </thead>\n",
       "  <tbody>\n",
       "    <tr>\n",
       "      <th>0</th>\n",
       "      <td>d.4</td>\n",
       "      <td>Emotional Intelligence</td>\n",
       "      <td>&lt;p&gt;Emotional intelligence is the skill at perc...</td>\n",
       "      <td>&lt;p&gt;Here are the topics you will learn about by...</td>\n",
       "      <td>NaN</td>\n",
       "      <td>&lt;p&gt;2 hour 35 minutes&lt;/p&gt;</td>\n",
       "    </tr>\n",
       "    <tr>\n",
       "      <th>1</th>\n",
       "      <td>d.5</td>\n",
       "      <td>Stress Management &amp; Balance</td>\n",
       "      <td>&lt;p&gt;This is a self-learning program for learnin...</td>\n",
       "      <td>&lt;p&gt;At the end of this track you will be able t...</td>\n",
       "      <td>NaN</td>\n",
       "      <td>&lt;p&gt;48 minutes.&lt;/p&gt;</td>\n",
       "    </tr>\n",
       "    <tr>\n",
       "      <th>2</th>\n",
       "      <td>d.6</td>\n",
       "      <td>Time Management &amp; Productivity</td>\n",
       "      <td>&lt;p&gt;You'll learn strategies to better mangage y...</td>\n",
       "      <td>&lt;p&gt;At the end of this, you will be able to:&lt;/p...</td>\n",
       "      <td>NaN</td>\n",
       "      <td>&lt;p&gt;1 hour, 36 minutes&lt;/p&gt;</td>\n",
       "    </tr>\n",
       "    <tr>\n",
       "      <th>3</th>\n",
       "      <td>d.7</td>\n",
       "      <td>Public Speaking</td>\n",
       "      <td>&lt;p&gt;In today’s business world, most of us need ...</td>\n",
       "      <td>&lt;p&gt;After studying the Public Speaking, you wil...</td>\n",
       "      <td>NaN</td>\n",
       "      <td>&lt;p&gt;4 hours, 30 min&lt;/p&gt;</td>\n",
       "    </tr>\n",
       "    <tr>\n",
       "      <th>4</th>\n",
       "      <td>d.8</td>\n",
       "      <td>Virtual Team Communication</td>\n",
       "      <td>&lt;p&gt;&lt;span style=\"color: rgb(78, 78, 78);\"&gt;This ...</td>\n",
       "      <td>&lt;p&gt;Here are the topics you will learn about by...</td>\n",
       "      <td>NaN</td>\n",
       "      <td>&lt;p&gt;Maximum 5 hours.&lt;/p&gt;</td>\n",
       "    </tr>\n",
       "  </tbody>\n",
       "</table>\n",
       "</div>"
      ],
      "text/plain": [
       "    ID                           Title  \\\n",
       "0  d.4          Emotional Intelligence   \n",
       "1  d.5     Stress Management & Balance   \n",
       "2  d.6  Time Management & Productivity   \n",
       "3  d.7                 Public Speaking   \n",
       "4  d.8      Virtual Team Communication   \n",
       "\n",
       "                                         Description  \\\n",
       "0  <p>Emotional intelligence is the skill at perc...   \n",
       "1  <p>This is a self-learning program for learnin...   \n",
       "2  <p>You'll learn strategies to better mangage y...   \n",
       "3  <p>In today’s business world, most of us need ...   \n",
       "4  <p><span style=\"color: rgb(78, 78, 78);\">This ...   \n",
       "\n",
       "                                          Objectives Solutions  \\\n",
       "0  <p>Here are the topics you will learn about by...       NaN   \n",
       "1  <p>At the end of this track you will be able t...       NaN   \n",
       "2  <p>At the end of this, you will be able to:</p...       NaN   \n",
       "3  <p>After studying the Public Speaking, you wil...       NaN   \n",
       "4  <p>Here are the topics you will learn about by...       NaN   \n",
       "\n",
       "                    Duration  \n",
       "0   <p>2 hour 35 minutes</p>  \n",
       "1         <p>48 minutes.</p>  \n",
       "2  <p>1 hour, 36 minutes</p>  \n",
       "3     <p>4 hours, 30 min</p>  \n",
       "4    <p>Maximum 5 hours.</p>  "
      ]
     },
     "execution_count": 41,
     "metadata": {},
     "output_type": "execute_result"
    }
   ],
   "source": [
    "df = pd.read_csv('data.csv', sep=';')\n",
    "df.head()"
   ]
  },
  {
   "cell_type": "code",
   "execution_count": 42,
   "metadata": {},
   "outputs": [],
   "source": [
    "df.Title = df.Title.fillna('')\n",
    "df.Description = df.Description.fillna('')\n",
    "df['Duration'] = df['Duration'].str.replace('<.*?>', '')"
   ]
  },
  {
   "cell_type": "code",
   "execution_count": 43,
   "metadata": {},
   "outputs": [],
   "source": [
    "vectorizer = feature_extraction.text.TfidfVectorizer()\n",
    "words = vectorizer.fit_transform(df.Title)"
   ]
  },
  {
   "cell_type": "code",
   "execution_count": 44,
   "metadata": {},
   "outputs": [
    {
     "name": "stdout",
     "output_type": "stream",
     "text": [
      "Fit 2 clusters\n",
      "Fit 4 clusters\n",
      "Fit 6 clusters\n",
      "Fit 8 clusters\n",
      "Fit 10 clusters\n",
      "Fit 12 clusters\n",
      "Fit 14 clusters\n",
      "Fit 16 clusters\n",
      "Fit 18 clusters\n",
      "Fit 20 clusters\n",
      "Fit 22 clusters\n",
      "Fit 24 clusters\n",
      "Fit 26 clusters\n",
      "Fit 28 clusters\n",
      "Fit 30 clusters\n",
      "Fit 32 clusters\n",
      "Fit 34 clusters\n",
      "Fit 36 clusters\n",
      "Fit 38 clusters\n",
      "Fit 40 clusters\n",
      "Fit 42 clusters\n",
      "Fit 44 clusters\n",
      "Fit 46 clusters\n",
      "Fit 48 clusters\n",
      "Fit 50 clusters\n"
     ]
    },
    {
     "data": {
      "image/png": "[encoded data removed]",
      "text/plain": [
       "<Figure size 432x288 with 1 Axes>"
      ]
     },
     "metadata": {
      "needs_background": "light"
     },
     "output_type": "display_data"
    }
   ],
   "source": [
    "def find_optimal_clusters(data, max_k):\n",
    "    iters = range(2, max_k+1, 2)\n",
    "    \n",
    "    sse = []\n",
    "    for k in iters:\n",
    "        sse.append(MiniBatchKMeans(n_clusters=k, init_size=1024, batch_size=2048, random_state=20).fit(data).inertia_)\n",
    "        print('Fit {} clusters'.format(k))\n",
    "        \n",
    "    f, ax = plt.subplots(1, 1)\n",
    "    ax.plot(iters, sse, marker='o')\n",
    "    ax.set_xlabel('Cluster Centers')\n",
    "    ax.set_xticks(iters)\n",
    "    ax.set_xticklabels(iters)\n",
    "    ax.set_ylabel('SSE')\n",
    "    ax.set_title('SSE by Cluster Center Plot')\n",
    "    \n",
    "find_optimal_clusters(words, 50)"
   ]
  },
  {
   "cell_type": "code",
   "execution_count": 64,
   "metadata": {},
   "outputs": [],
   "source": [
    "from sklearn.cluster import KMeans\n",
    "\n",
    "clusters = KMeans(n_clusters=36, random_state=20).fit_predict(words)"
   ]
  },
  {
   "cell_type": "code",
   "execution_count": 65,
   "metadata": {},
   "outputs": [
    {
     "data": {
      "image/png": "[encoded data removed]",
      "text/plain": [
       "<Figure size 432x288 with 1 Axes>"
      ]
     },
     "metadata": {
      "needs_background": "light"
     },
     "output_type": "display_data"
    }
   ],
   "source": [
    "from sklearn.decomposition import PCA\n",
    "from sklearn.manifold import TSNE\n",
    "import matplotlib.pyplot as plt\n",
    "import matplotlib.cm as cm\n",
    "\n",
    "def plot_tsne_pca(data, labels):\n",
    "    max_label = max(labels)\n",
    "    max_items = np.random.choice(range(data.shape[0]), size=3000, replace=False)\n",
    "\n",
    "    tsne = TSNE().fit_transform(PCA(n_components=50).fit_transform(data[max_items,:].todense()))\n",
    "    \n",
    "    \n",
    "    idx = np.random.choice(range(tsne.shape[0]), size=300, replace=False)\n",
    "    label_subset = labels[max_items]\n",
    "    label_subset = [cm.hsv(i/max_label) for i in label_subset[idx]]\n",
    "    \n",
    "    \n",
    "    plt.scatter(tsne[idx, 0], tsne[idx, 1], c=label_subset)\n",
    "    plt.show()\n",
    "\n",
    "\n",
    "    \n",
    "plot_tsne_pca(words, clusters)"
   ]
  },
  {
   "cell_type": "code",
   "execution_count": 66,
   "metadata": {},
   "outputs": [
    {
     "name": "stdout",
     "output_type": "stream",
     "text": [
      "\n",
      "Cluster 0\n",
      "service,network,manager,the,leadership,agile,ver,csf,nsw,and\n",
      "\n",
      "Cluster 1\n",
      "archive,for,and,belt,e2e,packet,telco,nokia,core,cloud\n",
      "\n",
      "Cluster 2\n",
      "age,digital,change,talent,fundamentals,learning,management,consulting,competency,hr\n",
      "\n",
      "Cluster 3\n",
      "specific_software,nsw,kmcd,as,integration,professional,gsd,test,specialist,systems\n",
      "\n",
      "Cluster 4\n",
      "nsw,nokia,security,certification,solutions,labs,bell,5g,to,end\n",
      "\n",
      "Cluster 5\n",
      "by,talk,ted,flowone,nokia,and,the,how,introduction,to\n",
      "\n",
      "Cluster 6\n",
      "communicating,administration,dcm,working,and,hive,data,started,getting,with\n",
      "\n",
      "Cluster 7\n",
      "sales,improvement,library,and,nsw,offer,execute,for,create,process\n",
      "\n",
      "Cluster 8\n",
      "related,trs,ce,n4,tribe,n3,20,rf,mn,onboarding\n",
      "\n",
      "Cluster 9\n",
      "applied,and,common,software,architect,delivery,gsd,nsw,kmcd,as\n",
      "\n",
      "Cluster 10\n",
      "center,storage,collection,big,training,refinery,ava,analytics,science,data\n",
      "\n",
      "Cluster 11\n",
      "5g18,nr,aspects,nokia,and,network,nsw,ran,e2e,5g\n",
      "\n",
      "Cluster 12\n",
      "vcs,software,defined,mobile,services,optical,virtualized,ip,nuage,networks\n",
      "\n",
      "Cluster 13\n",
      "and,development,ai,community,nokia,intelligence,artificial,path,machine,learning\n",
      "\n",
      "Cluster 14\n",
      "mandatory,introductory,analytics,practitioner,execute,ava,delivery,ndp,essential,training\n",
      "\n",
      "Cluster 15\n",
      "foundation,introductory,certification,l2,analytics,ncs,deploy,training,for,gs\n",
      "\n",
      "Cluster 16\n",
      "orange,0620,synopsys,and,cyber,0720,belt,journey,product,security\n",
      "\n",
      "Cluster 17\n",
      "l3,nsw,time,quality,network,for,risk,oms,project,management\n",
      "\n",
      "Cluster 18\n",
      "intelligence,2020,solution,to,operations,technical,nsw,go,market,digital\n",
      "\n",
      "Cluster 19\n",
      "tss,service,manager,pm,gs,management,focus,for,project,customer\n",
      "\n",
      "Cluster 20\n",
      "edennet,nifi,and,service,technology,portfolio,nokia,nsw,product,overview\n",
      "\n",
      "Cluster 21\n",
      "design,digital,for,new,dialog,era,5g,and,the,in\n",
      "\n",
      "Cluster 22\n",
      "fdd,commissioning,indoor,and,oam,airscale,20a,radio,oms,lte\n",
      "\n",
      "Cluster 23\n",
      "professional,l3,l4,engineer,curriculum,2020kt,nsw,kmcd,gs02,cs\n",
      "\n",
      "Cluster 24\n",
      "user,and,ceb,optimization,dimensioning,sixth,pmbok,edition,planning,guide\n",
      "\n",
      "Cluster 25\n",
      "manager,solution,lan,arcadia,wifi,certification,network,ava,optical,nokia\n",
      "\n",
      "Cluster 26\n",
      "management,operations,nsw,administration,delta,applications,19,2000,20,netact\n",
      "\n",
      "Cluster 27\n",
      "network,certified,cnp,operations,fba,hlr,maintenance,ftth,nt,fttx\n",
      "\n",
      "Cluster 28\n",
      "cfx,5000,hss,edennet,1830,installation,maintenance,and,administration,operation\n",
      "\n",
      "Cluster 29\n",
      "coaching,signaling,mpw,it,media,and,pm,members,staff,for\n",
      "\n",
      "Cluster 30\n",
      "python,l4,istqb,automation,for,intermediate,developers,mn,testing,advanced\n",
      "\n",
      "Cluster 31\n",
      "real,estate,to,nokia,module,aspects,of,human,management,change\n",
      "\n",
      "Cluster 32\n",
      "introduction,insight,leadership,the,acumen,to,for,and,analysis,business\n",
      "\n",
      "Cluster 33\n",
      "and,zone,description,internal,ndcs,new,only,cells,small,features\n",
      "\n",
      "Cluster 34\n",
      "certification,for,virtual,level,pre,2020,ne,conference,nsw,sales\n",
      "\n",
      "Cluster 35\n",
      "specific_,nsw,and,enterprise,kmcd,as,1830,pss,hardware,architecture\n"
     ]
    }
   ],
   "source": [
    "def get_top_keywords(data, clusters, labels, n_terms):\n",
    "    df = pd.DataFrame(data.todense()).groupby(clusters).mean()\n",
    "    \n",
    "    for i,r in df.iterrows():\n",
    "        print('\\nCluster {}'.format(i))\n",
    "        print(','.join([labels[t] for t in np.argsort(r)[-n_terms:]]))\n",
    "            \n",
    "get_top_keywords(words, clusters, vectorizer.get_feature_names(), 10)"
   ]
  },
  {
   "cell_type": "code",
   "execution_count": 48,
   "metadata": {},
   "outputs": [],
   "source": [
    "input_title = \"Developing with Python\"\n",
    "input_vector = vectorizer.transform([input_title])"
   ]
  },
  {
   "cell_type": "code",
   "execution_count": 49,
   "metadata": {},
   "outputs": [],
   "source": [
    "recommendations = cosine_similarity(input_vector, words)"
   ]
  },
  {
   "cell_type": "code",
   "execution_count": 50,
   "metadata": {},
   "outputs": [
    {
     "data": {
      "text/html": [
       "<div>\n",
       "<style scoped>\n",
       "    .dataframe tbody tr th:only-of-type {\n",
       "        vertical-align: middle;\n",
       "    }\n",
       "\n",
       "    .dataframe tbody tr th {\n",
       "        vertical-align: top;\n",
       "    }\n",
       "\n",
       "    .dataframe thead th {\n",
       "        text-align: right;\n",
       "    }\n",
       "</style>\n",
       "<table border=\"1\" class=\"dataframe\">\n",
       "  <thead>\n",
       "    <tr style=\"text-align: right;\">\n",
       "      <th></th>\n",
       "      <th>Title</th>\n",
       "      <th>Amount</th>\n",
       "    </tr>\n",
       "  </thead>\n",
       "  <tbody>\n",
       "    <tr>\n",
       "      <th>0</th>\n",
       "      <td>Developing with Python</td>\n",
       "      <td>1.000000</td>\n",
       "    </tr>\n",
       "    <tr>\n",
       "      <th>7</th>\n",
       "      <td>Data Visualization with Python</td>\n",
       "      <td>0.543920</td>\n",
       "    </tr>\n",
       "    <tr>\n",
       "      <th>6</th>\n",
       "      <td>MN-Python</td>\n",
       "      <td>0.485627</td>\n",
       "    </tr>\n",
       "    <tr>\n",
       "      <th>21</th>\n",
       "      <td>Advanced Python Topics: Migrating from Python ...</td>\n",
       "      <td>0.478181</td>\n",
       "    </tr>\n",
       "    <tr>\n",
       "      <th>27</th>\n",
       "      <td>Developing a Service Mindset</td>\n",
       "      <td>0.417635</td>\n",
       "    </tr>\n",
       "  </tbody>\n",
       "</table>\n",
       "</div>"
      ],
      "text/plain": [
       "                                                Title    Amount\n",
       "0                              Developing with Python  1.000000\n",
       "7                      Data Visualization with Python  0.543920\n",
       "6                                           MN-Python  0.485627\n",
       "21  Advanced Python Topics: Migrating from Python ...  0.478181\n",
       "27                       Developing a Service Mindset  0.417635"
      ]
     },
     "execution_count": 50,
     "metadata": {},
     "output_type": "execute_result"
    }
   ],
   "source": [
    "recs = pd.DataFrame(columns=['Title', 'Amount'])\n",
    "\n",
    "for idx, elem in enumerate(recommendations[0]):\n",
    "    if elem > 0.3:\n",
    "        recs = recs.append({'Title': df.Title[idx], 'Amount': elem}, ignore_index=True)\n",
    "\n",
    "recs = recs.sort_values(by='Amount', ascending=False)\n",
    "recs.head()"
   ]
  }
 ],
 "metadata": {
  "interpreter": {
   "hash": "e8790a543c3c710c0952e43f1f5d165bd667fc4bdade8f601f8e2bd61205c28a"
  },
  "kernelspec": {
   "display_name": "Python 3.9.7 64-bit ('Learning Store': conda)",
   "name": "python3"
  },
  "language_info": {
   "codemirror_mode": {
    "name": "ipython",
    "version": 3
   },
   "file_extension": ".py",
   "mimetype": "text/x-python",
   "name": "python",
   "nbconvert_exporter": "python",
   "pygments_lexer": "ipython3",
   "version": "3.8.11"
  },
  "orig_nbformat": 4
 },
 "nbformat": 4,
 "nbformat_minor": 2
}
