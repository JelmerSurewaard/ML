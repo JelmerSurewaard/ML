{
 "cells": [
  {
   "cell_type": "code",
   "execution_count": 144,
   "source": [
    "import numpy as np\r\n",
    "import pandas as pd\r\n",
    "import seaborn as sns\r\n",
    "import matplotlib.pylab as plt\r\n",
    "import os\r\n",
    "import random\r\n",
    "import shutil\r\n",
    "import glob\r\n",
    "import tensorflow as tf\r\n",
    "from tensorflow import keras\r\n",
    "from tensorflow.keras.models import Sequential\r\n",
    "from tensorflow.keras.layers import Activation, Dense, Flatten, BatchNormalization, Conv2D, MaxPool2D\r\n",
    "from tensorflow.keras.optimizers import Adam\r\n",
    "from tensorflow.keras.metrics import categorical_crossentropy\r\n",
    "from tensorflow.keras.preprocessing.image import ImageDataGenerator\r\n",
    "from sklearn.metrics import confusion_matrix\r\n",
    "import itertools"
   ],
   "outputs": [],
   "metadata": {}
  },
  {
   "cell_type": "code",
   "execution_count": 145,
   "source": [
    "model = Sequential([\r\n",
    "    Conv2D(filters=48, kernel_size=(3, 3), activation='relu',\r\n",
    "           padding='same', input_shape=(224, 224, 3)),\r\n",
    "    MaxPool2D(pool_size=(2, 2), strides=2),\r\n",
    "    Conv2D(filters=64, kernel_size=(3, 3), activation='relu', padding='same'),\r\n",
    "    MaxPool2D(pool_size=(2, 2), strides=2),\r\n",
    "    Conv2D(filters=64, kernel_size=(3, 3), activation='relu', padding='same'),\r\n",
    "    MaxPool2D(pool_size=(2, 2), strides=2),\r\n",
    "    Conv2D(filters=64, kernel_size=(3, 3), activation='relu', padding='same'),\r\n",
    "    MaxPool2D(pool_size=(2, 2), strides=2),\r\n",
    "    Flatten(),\r\n",
    "    Dense(units=64, activation='relu'),\r\n",
    "    Dense(units=4, activation='softmax')\r\n",
    "])\r\n"
   ],
   "outputs": [],
   "metadata": {}
  },
  {
   "cell_type": "code",
   "execution_count": 153,
   "source": [
    "model.compile(optimizer=Adam(learning_rate=0.001), loss='categorical_crossentropy', metrics=['accuracy'])\r\n",
    "\r\n",
    "train_datagen = ImageDataGenerator(validation_split=0.2)\r\n",
    "\r\n",
    "train_generator = train_datagen.flow_from_directory(\r\n",
    "        'Train',  # this is the target directory\r\n",
    "        target_size=(224, 224),  \r\n",
    "        batch_size=10,\r\n",
    "        class_mode='categorical',\r\n",
    "        subset='training')\r\n",
    "\r\n",
    "# this is a similar generator, for validation data\r\n",
    "validation_generator = train_datagen.flow_from_directory(\r\n",
    "        'Train',\r\n",
    "        target_size=(224, 224),\r\n",
    "        batch_size=10,\r\n",
    "        class_mode='categorical',\r\n",
    "        subset='validation') \r\n",
    "\r\n",
    "history = model.fit(\r\n",
    "        train_generator,\r\n",
    "        steps_per_epoch=len(train_generator),\r\n",
    "        epochs=100,\r\n",
    "        validation_data=validation_generator,\r\n",
    "        validation_steps=len(validation_generator))\r\n"
   ],
   "outputs": [
    {
     "output_type": "stream",
     "name": "stdout",
     "text": [
      "Found 192 images belonging to 4 classes.\n",
      "Found 48 images belonging to 4 classes.\n",
      "Epoch 1/100\n",
      "20/20 [==============================] - 2s 86ms/step - loss: 0.1560 - accuracy: 0.9479 - val_loss: 7.2940 - val_accuracy: 0.5000\n",
      "Epoch 2/100\n",
      "20/20 [==============================] - 1s 68ms/step - loss: 0.2283 - accuracy: 0.9531 - val_loss: 4.9352 - val_accuracy: 0.5833\n",
      "Epoch 3/100\n",
      "20/20 [==============================] - 1s 65ms/step - loss: 0.3963 - accuracy: 0.9219 - val_loss: 3.9223 - val_accuracy: 0.5417\n",
      "Epoch 4/100\n",
      "20/20 [==============================] - 1s 65ms/step - loss: 0.2374 - accuracy: 0.9375 - val_loss: 6.7532 - val_accuracy: 0.5208\n",
      "Epoch 5/100\n",
      "20/20 [==============================] - 1s 67ms/step - loss: 0.0887 - accuracy: 0.9688 - val_loss: 5.5232 - val_accuracy: 0.5417\n",
      "Epoch 6/100\n",
      "20/20 [==============================] - 1s 65ms/step - loss: 0.0184 - accuracy: 0.9948 - val_loss: 6.6782 - val_accuracy: 0.6250\n",
      "Epoch 7/100\n",
      "20/20 [==============================] - 1s 63ms/step - loss: 0.0090 - accuracy: 0.9948 - val_loss: 6.2625 - val_accuracy: 0.5833\n",
      "Epoch 8/100\n",
      "20/20 [==============================] - 1s 65ms/step - loss: 0.0015 - accuracy: 1.0000 - val_loss: 6.3759 - val_accuracy: 0.6250\n",
      "Epoch 9/100\n",
      "20/20 [==============================] - 1s 63ms/step - loss: 4.5854e-04 - accuracy: 1.0000 - val_loss: 6.5038 - val_accuracy: 0.6250\n",
      "Epoch 10/100\n",
      "20/20 [==============================] - 1s 66ms/step - loss: 2.4890e-04 - accuracy: 1.0000 - val_loss: 6.5927 - val_accuracy: 0.6250\n",
      "Epoch 11/100\n",
      "20/20 [==============================] - 1s 64ms/step - loss: 2.1923e-04 - accuracy: 1.0000 - val_loss: 6.6588 - val_accuracy: 0.6250\n",
      "Epoch 12/100\n",
      "20/20 [==============================] - 1s 66ms/step - loss: 1.2624e-04 - accuracy: 1.0000 - val_loss: 6.7100 - val_accuracy: 0.6250\n",
      "Epoch 13/100\n",
      "20/20 [==============================] - 1s 64ms/step - loss: 1.1352e-04 - accuracy: 1.0000 - val_loss: 6.7651 - val_accuracy: 0.6042\n",
      "Epoch 14/100\n",
      "20/20 [==============================] - 1s 61ms/step - loss: 9.4042e-05 - accuracy: 1.0000 - val_loss: 6.8299 - val_accuracy: 0.6042\n",
      "Epoch 15/100\n",
      "20/20 [==============================] - 1s 65ms/step - loss: 7.9068e-05 - accuracy: 1.0000 - val_loss: 6.8677 - val_accuracy: 0.6042\n",
      "Epoch 16/100\n",
      "20/20 [==============================] - 1s 65ms/step - loss: 6.9993e-05 - accuracy: 1.0000 - val_loss: 6.9004 - val_accuracy: 0.6042\n",
      "Epoch 17/100\n",
      "20/20 [==============================] - 1s 63ms/step - loss: 6.3344e-05 - accuracy: 1.0000 - val_loss: 6.9346 - val_accuracy: 0.6042\n",
      "Epoch 18/100\n",
      "20/20 [==============================] - 1s 66ms/step - loss: 5.5865e-05 - accuracy: 1.0000 - val_loss: 6.9745 - val_accuracy: 0.6042\n",
      "Epoch 19/100\n",
      "20/20 [==============================] - 1s 64ms/step - loss: 4.8606e-05 - accuracy: 1.0000 - val_loss: 7.0051 - val_accuracy: 0.6042\n",
      "Epoch 20/100\n",
      "20/20 [==============================] - 1s 65ms/step - loss: 4.4688e-05 - accuracy: 1.0000 - val_loss: 7.0345 - val_accuracy: 0.6042\n",
      "Epoch 21/100\n",
      "20/20 [==============================] - 1s 65ms/step - loss: 4.1822e-05 - accuracy: 1.0000 - val_loss: 7.0700 - val_accuracy: 0.5833\n",
      "Epoch 22/100\n",
      "20/20 [==============================] - 1s 67ms/step - loss: 3.6218e-05 - accuracy: 1.0000 - val_loss: 7.0921 - val_accuracy: 0.6042\n",
      "Epoch 23/100\n",
      "20/20 [==============================] - 1s 64ms/step - loss: 3.4209e-05 - accuracy: 1.0000 - val_loss: 7.1062 - val_accuracy: 0.6042\n",
      "Epoch 24/100\n",
      "20/20 [==============================] - 1s 66ms/step - loss: 3.0867e-05 - accuracy: 1.0000 - val_loss: 7.1400 - val_accuracy: 0.5833\n",
      "Epoch 25/100\n",
      "20/20 [==============================] - 1s 68ms/step - loss: 2.8482e-05 - accuracy: 1.0000 - val_loss: 7.1622 - val_accuracy: 0.5833\n",
      "Epoch 26/100\n",
      "20/20 [==============================] - 1s 68ms/step - loss: 2.7486e-05 - accuracy: 1.0000 - val_loss: 7.1902 - val_accuracy: 0.5833\n",
      "Epoch 27/100\n",
      "20/20 [==============================] - 1s 70ms/step - loss: 2.4560e-05 - accuracy: 1.0000 - val_loss: 7.2001 - val_accuracy: 0.5833\n",
      "Epoch 28/100\n",
      "20/20 [==============================] - 1s 64ms/step - loss: 2.3334e-05 - accuracy: 1.0000 - val_loss: 7.2176 - val_accuracy: 0.5833\n",
      "Epoch 29/100\n",
      "20/20 [==============================] - 1s 64ms/step - loss: 2.1614e-05 - accuracy: 1.0000 - val_loss: 7.2407 - val_accuracy: 0.5833\n",
      "Epoch 30/100\n",
      "20/20 [==============================] - 1s 62ms/step - loss: 2.0343e-05 - accuracy: 1.0000 - val_loss: 7.2563 - val_accuracy: 0.5833\n",
      "Epoch 31/100\n",
      "20/20 [==============================] - 1s 65ms/step - loss: 1.9033e-05 - accuracy: 1.0000 - val_loss: 7.2822 - val_accuracy: 0.5833\n",
      "Epoch 32/100\n",
      "20/20 [==============================] - 1s 68ms/step - loss: 1.8553e-05 - accuracy: 1.0000 - val_loss: 7.2907 - val_accuracy: 0.5833\n",
      "Epoch 33/100\n",
      "20/20 [==============================] - 1s 68ms/step - loss: 1.6994e-05 - accuracy: 1.0000 - val_loss: 7.3238 - val_accuracy: 0.5833\n",
      "Epoch 34/100\n",
      "20/20 [==============================] - 1s 65ms/step - loss: 1.5886e-05 - accuracy: 1.0000 - val_loss: 7.3321 - val_accuracy: 0.5833\n",
      "Epoch 35/100\n",
      "20/20 [==============================] - 1s 73ms/step - loss: 1.5097e-05 - accuracy: 1.0000 - val_loss: 7.3458 - val_accuracy: 0.5833\n",
      "Epoch 36/100\n",
      "20/20 [==============================] - 1s 70ms/step - loss: 1.3962e-05 - accuracy: 1.0000 - val_loss: 7.3665 - val_accuracy: 0.5833\n",
      "Epoch 37/100\n",
      "20/20 [==============================] - 1s 74ms/step - loss: 1.3672e-05 - accuracy: 1.0000 - val_loss: 7.3832 - val_accuracy: 0.5833\n",
      "Epoch 38/100\n",
      "20/20 [==============================] - 1s 70ms/step - loss: 1.2552e-05 - accuracy: 1.0000 - val_loss: 7.4079 - val_accuracy: 0.5833\n",
      "Epoch 39/100\n",
      "20/20 [==============================] - 1s 70ms/step - loss: 1.1811e-05 - accuracy: 1.0000 - val_loss: 7.4194 - val_accuracy: 0.5833\n",
      "Epoch 40/100\n",
      "20/20 [==============================] - 1s 66ms/step - loss: 1.1258e-05 - accuracy: 1.0000 - val_loss: 7.4306 - val_accuracy: 0.5833\n",
      "Epoch 41/100\n",
      "20/20 [==============================] - 1s 68ms/step - loss: 1.0659e-05 - accuracy: 1.0000 - val_loss: 7.4446 - val_accuracy: 0.5833\n",
      "Epoch 42/100\n",
      "20/20 [==============================] - 1s 72ms/step - loss: 1.0260e-05 - accuracy: 1.0000 - val_loss: 7.4553 - val_accuracy: 0.5833\n",
      "Epoch 43/100\n",
      "20/20 [==============================] - 1s 70ms/step - loss: 9.6804e-06 - accuracy: 1.0000 - val_loss: 7.4690 - val_accuracy: 0.5833\n",
      "Epoch 44/100\n",
      "20/20 [==============================] - 1s 67ms/step - loss: 9.2148e-06 - accuracy: 1.0000 - val_loss: 7.4794 - val_accuracy: 0.5833\n",
      "Epoch 45/100\n",
      "20/20 [==============================] - 1s 67ms/step - loss: 8.8281e-06 - accuracy: 1.0000 - val_loss: 7.4853 - val_accuracy: 0.5833\n",
      "Epoch 46/100\n",
      "20/20 [==============================] - 1s 68ms/step - loss: 8.5158e-06 - accuracy: 1.0000 - val_loss: 7.4903 - val_accuracy: 0.5833\n",
      "Epoch 47/100\n",
      "20/20 [==============================] - 1s 68ms/step - loss: 8.0869e-06 - accuracy: 1.0000 - val_loss: 7.5023 - val_accuracy: 0.5833\n",
      "Epoch 48/100\n",
      "20/20 [==============================] - 1s 68ms/step - loss: 7.7765e-06 - accuracy: 1.0000 - val_loss: 7.5097 - val_accuracy: 0.5833\n",
      "Epoch 49/100\n",
      "20/20 [==============================] - 1s 68ms/step - loss: 7.4388e-06 - accuracy: 1.0000 - val_loss: 7.5152 - val_accuracy: 0.5833\n",
      "Epoch 50/100\n",
      "20/20 [==============================] - 1s 69ms/step - loss: 7.1030e-06 - accuracy: 1.0000 - val_loss: 7.5254 - val_accuracy: 0.5833\n",
      "Epoch 51/100\n",
      "20/20 [==============================] - 1s 63ms/step - loss: 6.8683e-06 - accuracy: 1.0000 - val_loss: 7.5317 - val_accuracy: 0.5833\n",
      "Epoch 52/100\n",
      "20/20 [==============================] - 1s 69ms/step - loss: 6.5685e-06 - accuracy: 1.0000 - val_loss: 7.5411 - val_accuracy: 0.5833\n",
      "Epoch 53/100\n",
      "20/20 [==============================] - 1s 69ms/step - loss: 6.3748e-06 - accuracy: 1.0000 - val_loss: 7.5517 - val_accuracy: 0.5833\n",
      "Epoch 54/100\n",
      "20/20 [==============================] - 1s 62ms/step - loss: 6.0650e-06 - accuracy: 1.0000 - val_loss: 7.5595 - val_accuracy: 0.5833\n",
      "Epoch 55/100\n",
      "20/20 [==============================] - 1s 67ms/step - loss: 5.8371e-06 - accuracy: 1.0000 - val_loss: 7.5680 - val_accuracy: 0.5833\n",
      "Epoch 56/100\n",
      "20/20 [==============================] - 1s 68ms/step - loss: 5.4994e-06 - accuracy: 1.0000 - val_loss: 7.5805 - val_accuracy: 0.5833\n",
      "Epoch 57/100\n",
      "20/20 [==============================] - 1s 68ms/step - loss: 5.3026e-06 - accuracy: 1.0000 - val_loss: 7.6111 - val_accuracy: 0.5833\n",
      "Epoch 58/100\n",
      "20/20 [==============================] - 1s 73ms/step - loss: 5.0643e-06 - accuracy: 1.0000 - val_loss: 7.6345 - val_accuracy: 0.5833\n",
      "Epoch 59/100\n",
      "20/20 [==============================] - 1s 65ms/step - loss: 5.0791e-06 - accuracy: 1.0000 - val_loss: 7.6132 - val_accuracy: 0.5833\n",
      "Epoch 60/100\n",
      "20/20 [==============================] - 1s 67ms/step - loss: 4.5825e-06 - accuracy: 1.0000 - val_loss: 7.6377 - val_accuracy: 0.5833\n",
      "Epoch 61/100\n",
      "20/20 [==============================] - 1s 61ms/step - loss: 5.5590e-06 - accuracy: 1.0000 - val_loss: 7.6403 - val_accuracy: 0.5833\n",
      "Epoch 62/100\n",
      "20/20 [==============================] - 1s 62ms/step - loss: 4.4720e-06 - accuracy: 1.0000 - val_loss: 7.6429 - val_accuracy: 0.5833\n",
      "Epoch 63/100\n",
      "20/20 [==============================] - 1s 57ms/step - loss: 4.5589e-06 - accuracy: 1.0000 - val_loss: 7.6576 - val_accuracy: 0.5833\n",
      "Epoch 64/100\n",
      "20/20 [==============================] - 1s 64ms/step - loss: 4.2056e-06 - accuracy: 1.0000 - val_loss: 7.6812 - val_accuracy: 0.5833\n",
      "Epoch 65/100\n",
      "20/20 [==============================] - 1s 64ms/step - loss: 4.0958e-06 - accuracy: 1.0000 - val_loss: 7.7126 - val_accuracy: 0.5833\n",
      "Epoch 66/100\n",
      "20/20 [==============================] - 1s 65ms/step - loss: 3.8449e-06 - accuracy: 1.0000 - val_loss: 7.7125 - val_accuracy: 0.5833\n",
      "Epoch 67/100\n",
      "20/20 [==============================] - 1s 64ms/step - loss: 4.0448e-06 - accuracy: 1.0000 - val_loss: 7.7839 - val_accuracy: 0.5833\n",
      "Epoch 68/100\n",
      "20/20 [==============================] - 1s 64ms/step - loss: 3.4271e-06 - accuracy: 1.0000 - val_loss: 7.7746 - val_accuracy: 0.5833\n",
      "Epoch 69/100\n",
      "20/20 [==============================] - 1s 64ms/step - loss: 3.3421e-06 - accuracy: 1.0000 - val_loss: 7.8177 - val_accuracy: 0.5833\n",
      "Epoch 70/100\n",
      "20/20 [==============================] - 1s 66ms/step - loss: 3.0850e-06 - accuracy: 1.0000 - val_loss: 7.7958 - val_accuracy: 0.5833\n",
      "Epoch 71/100\n",
      "20/20 [==============================] - 1s 63ms/step - loss: 3.0223e-06 - accuracy: 1.0000 - val_loss: 7.8482 - val_accuracy: 0.5833\n",
      "Epoch 72/100\n",
      "20/20 [==============================] - 1s 65ms/step - loss: 3.3433e-06 - accuracy: 1.0000 - val_loss: 7.8282 - val_accuracy: 0.5833\n",
      "Epoch 73/100\n",
      "20/20 [==============================] - 1s 67ms/step - loss: 2.8758e-06 - accuracy: 1.0000 - val_loss: 7.9169 - val_accuracy: 0.5833\n",
      "Epoch 74/100\n",
      "20/20 [==============================] - 1s 63ms/step - loss: 2.7169e-06 - accuracy: 1.0000 - val_loss: 7.8895 - val_accuracy: 0.5833\n",
      "Epoch 75/100\n",
      "20/20 [==============================] - 1s 65ms/step - loss: 2.6815e-06 - accuracy: 1.0000 - val_loss: 8.0189 - val_accuracy: 0.5833\n",
      "Epoch 76/100\n",
      "20/20 [==============================] - 1s 63ms/step - loss: 3.4637e-06 - accuracy: 1.0000 - val_loss: 7.8276 - val_accuracy: 0.5625\n",
      "Epoch 77/100\n",
      "20/20 [==============================] - 1s 62ms/step - loss: 3.0161e-06 - accuracy: 1.0000 - val_loss: 7.8433 - val_accuracy: 0.5625\n",
      "Epoch 78/100\n",
      "20/20 [==============================] - 1s 61ms/step - loss: 2.8255e-06 - accuracy: 1.0000 - val_loss: 7.8801 - val_accuracy: 0.5625\n",
      "Epoch 79/100\n",
      "20/20 [==============================] - 1s 62ms/step - loss: 2.5933e-06 - accuracy: 1.0000 - val_loss: 7.9460 - val_accuracy: 0.5625\n",
      "Epoch 80/100\n",
      "20/20 [==============================] - 1s 71ms/step - loss: 2.4288e-06 - accuracy: 1.0000 - val_loss: 7.9682 - val_accuracy: 0.5625\n",
      "Epoch 81/100\n",
      "20/20 [==============================] - 1s 68ms/step - loss: 2.3506e-06 - accuracy: 1.0000 - val_loss: 7.9481 - val_accuracy: 0.5625\n",
      "Epoch 82/100\n",
      "20/20 [==============================] - 1s 61ms/step - loss: 2.3028e-06 - accuracy: 1.0000 - val_loss: 7.9590 - val_accuracy: 0.5625\n",
      "Epoch 83/100\n",
      "20/20 [==============================] - 1s 67ms/step - loss: 2.1364e-06 - accuracy: 1.0000 - val_loss: 8.0221 - val_accuracy: 0.5625\n",
      "Epoch 84/100\n",
      "20/20 [==============================] - 1s 67ms/step - loss: 1.9905e-06 - accuracy: 1.0000 - val_loss: 8.0799 - val_accuracy: 0.5625\n",
      "Epoch 85/100\n",
      "20/20 [==============================] - 1s 67ms/step - loss: 1.9160e-06 - accuracy: 1.0000 - val_loss: 8.0984 - val_accuracy: 0.5625\n",
      "Epoch 86/100\n",
      "20/20 [==============================] - 1s 64ms/step - loss: 1.8893e-06 - accuracy: 1.0000 - val_loss: 8.0394 - val_accuracy: 0.5625\n",
      "Epoch 87/100\n",
      "20/20 [==============================] - 1s 66ms/step - loss: 1.8849e-06 - accuracy: 1.0000 - val_loss: 8.0745 - val_accuracy: 0.5625\n",
      "Epoch 88/100\n",
      "20/20 [==============================] - 1s 66ms/step - loss: 1.7291e-06 - accuracy: 1.0000 - val_loss: 8.1734 - val_accuracy: 0.5625\n",
      "Epoch 89/100\n",
      "20/20 [==============================] - 1s 65ms/step - loss: 1.6043e-06 - accuracy: 1.0000 - val_loss: 8.1721 - val_accuracy: 0.5625\n",
      "Epoch 90/100\n",
      "20/20 [==============================] - 1s 65ms/step - loss: 1.5994e-06 - accuracy: 1.0000 - val_loss: 8.1572 - val_accuracy: 0.5625\n",
      "Epoch 91/100\n",
      "20/20 [==============================] - 1s 63ms/step - loss: 1.5404e-06 - accuracy: 1.0000 - val_loss: 8.1833 - val_accuracy: 0.5625\n",
      "Epoch 92/100\n",
      "20/20 [==============================] - 1s 67ms/step - loss: 1.4597e-06 - accuracy: 1.0000 - val_loss: 8.1989 - val_accuracy: 0.5625\n",
      "Epoch 93/100\n",
      "20/20 [==============================] - 1s 64ms/step - loss: 1.4777e-06 - accuracy: 1.0000 - val_loss: 8.1792 - val_accuracy: 0.5625\n",
      "Epoch 94/100\n",
      "20/20 [==============================] - 1s 65ms/step - loss: 1.6496e-06 - accuracy: 1.0000 - val_loss: 8.1782 - val_accuracy: 0.5625\n",
      "Epoch 95/100\n",
      "20/20 [==============================] - 1s 66ms/step - loss: 1.5640e-06 - accuracy: 1.0000 - val_loss: 8.3036 - val_accuracy: 0.5625\n",
      "Epoch 96/100\n",
      "20/20 [==============================] - 1s 67ms/step - loss: 1.3032e-06 - accuracy: 1.0000 - val_loss: 8.2766 - val_accuracy: 0.5625\n",
      "Epoch 97/100\n",
      "20/20 [==============================] - 1s 68ms/step - loss: 1.2008e-06 - accuracy: 1.0000 - val_loss: 8.2486 - val_accuracy: 0.5625\n",
      "Epoch 98/100\n",
      "20/20 [==============================] - 1s 65ms/step - loss: 1.1902e-06 - accuracy: 1.0000 - val_loss: 8.4562 - val_accuracy: 0.5625\n",
      "Epoch 99/100\n",
      "20/20 [==============================] - 1s 65ms/step - loss: 1.1772e-06 - accuracy: 1.0000 - val_loss: 8.2300 - val_accuracy: 0.5625\n",
      "Epoch 100/100\n",
      "20/20 [==============================] - 1s 62ms/step - loss: 1.2368e-06 - accuracy: 1.0000 - val_loss: 8.4269 - val_accuracy: 0.5625\n"
     ]
    }
   ],
   "metadata": {}
  },
  {
   "cell_type": "code",
   "execution_count": 147,
   "source": [
    "len(train_generator)"
   ],
   "outputs": [
    {
     "output_type": "execute_result",
     "data": {
      "text/plain": [
       "20"
      ]
     },
     "metadata": {},
     "execution_count": 147
    }
   ],
   "metadata": {}
  },
  {
   "cell_type": "code",
   "execution_count": 169,
   "source": [
    "img, label = validation_generator.next()\r\n",
    "\r\n",
    "plt.imshow(img[0] / 255)\r\n",
    "plt.show()\r\n",
    "print(label[0])\r\n",
    "\r\n",
    "prediction = model.predict(img)\r\n",
    "\r\n",
    "df = pd.DataFrame(prediction, columns=['bat', 'bear', 'bee', 'beetle'])\r\n",
    "sns.barplot(data=df.iloc[[0]])\r\n",
    "plt.show()\r\n"
   ],
   "outputs": [
    {
     "output_type": "display_data",
     "data": {
      "image/png": "[encoded data removed]",
      "text/plain": [
       "<Figure size 432x288 with 1 Axes>"
      ]
     },
     "metadata": {
      "needs_background": "light"
     }
    },
    {
     "output_type": "stream",
     "name": "stdout",
     "text": [
      "[0. 1. 0. 0.]\n"
     ]
    },
    {
     "output_type": "display_data",
     "data": {
      "image/png": "[encoded data removed]",
      "text/plain": [
       "<Figure size 432x288 with 1 Axes>"
      ]
     },
     "metadata": {
      "needs_background": "light"
     }
    }
   ],
   "metadata": {}
  },
  {
   "cell_type": "code",
   "execution_count": 154,
   "source": [
    "plt.plot(history.history['accuracy'], )\r\n",
    "plt.plot(history.history['val_accuracy'], )\r\n",
    "plt.title('model accuracy')\r\n",
    "plt.ylabel('accuracy')\r\n",
    "plt.xlabel('epoch')\r\n",
    "plt.xticks()\r\n",
    "plt.yticks()\r\n",
    "plt.legend(['training', 'validation'], loc='upper left',)\r\n",
    "plt.show()"
   ],
   "outputs": [
    {
     "output_type": "display_data",
     "data": {
      "image/png": "[encoded data removed]",
      "text/plain": [
       "<Figure size 432x288 with 1 Axes>"
      ]
     },
     "metadata": {
      "needs_background": "light"
     }
    }
   ],
   "metadata": {}
  }
 ],
 "metadata": {
  "orig_nbformat": 4,
  "language_info": {
   "name": "python",
   "version": "3.9.7",
   "mimetype": "text/x-python",
   "codemirror_mode": {
    "name": "ipython",
    "version": 3
   },
   "pygments_lexer": "ipython3",
   "nbconvert_exporter": "python",
   "file_extension": ".py"
  },
  "kernelspec": {
   "name": "python3",
   "display_name": "Python 3.9.7 64-bit ('GPU_Training': conda)"
  },
  "interpreter": {
   "hash": "a049daa721a74f12858027ab92bc79ffa2c8cc3772a18df1751122dcb93b2c8a"
  }
 },
 "nbformat": 4,
 "nbformat_minor": 2
}