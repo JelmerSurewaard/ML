{
 "cells": [
  {
   "cell_type": "code",
   "execution_count": 75,
   "metadata": {},
   "outputs": [],
   "source": [
    "import pandas as pd\n",
    "import numpy as np\n",
    "from sklearn import feature_extraction\n",
    "from sklearn.metrics.pairwise import cosine_similarity"
   ]
  },
  {
   "cell_type": "code",
   "execution_count": 76,
   "metadata": {},
   "outputs": [
    {
     "data": {
      "text/html": [
       "<div>\n",
       "<style scoped>\n",
       "    .dataframe tbody tr th:only-of-type {\n",
       "        vertical-align: middle;\n",
       "    }\n",
       "\n",
       "    .dataframe tbody tr th {\n",
       "        vertical-align: top;\n",
       "    }\n",
       "\n",
       "    .dataframe thead th {\n",
       "        text-align: right;\n",
       "    }\n",
       "</style>\n",
       "<table border=\"1\" class=\"dataframe\">\n",
       "  <thead>\n",
       "    <tr style=\"text-align: right;\">\n",
       "      <th></th>\n",
       "      <th>ID</th>\n",
       "      <th>Title</th>\n",
       "      <th>Description</th>\n",
       "      <th>Objectives</th>\n",
       "      <th>Solutions</th>\n",
       "      <th>Duration</th>\n",
       "    </tr>\n",
       "  </thead>\n",
       "  <tbody>\n",
       "    <tr>\n",
       "      <th>0</th>\n",
       "      <td>d.4</td>\n",
       "      <td>Emotional Intelligence</td>\n",
       "      <td>&lt;p&gt;Emotional intelligence is the skill at perc...</td>\n",
       "      <td>&lt;p&gt;Here are the topics you will learn about by...</td>\n",
       "      <td>NaN</td>\n",
       "      <td>&lt;p&gt;2 hour 35 minutes&lt;/p&gt;</td>\n",
       "    </tr>\n",
       "    <tr>\n",
       "      <th>1</th>\n",
       "      <td>d.5</td>\n",
       "      <td>Stress Management &amp; Balance</td>\n",
       "      <td>&lt;p&gt;This is a self-learning program for learnin...</td>\n",
       "      <td>&lt;p&gt;At the end of this track you will be able t...</td>\n",
       "      <td>NaN</td>\n",
       "      <td>&lt;p&gt;48 minutes.&lt;/p&gt;</td>\n",
       "    </tr>\n",
       "    <tr>\n",
       "      <th>2</th>\n",
       "      <td>d.6</td>\n",
       "      <td>Time Management &amp; Productivity</td>\n",
       "      <td>&lt;p&gt;You'll learn strategies to better mangage y...</td>\n",
       "      <td>&lt;p&gt;At the end of this, you will be able to:&lt;/p...</td>\n",
       "      <td>NaN</td>\n",
       "      <td>&lt;p&gt;1 hour, 36 minutes&lt;/p&gt;</td>\n",
       "    </tr>\n",
       "    <tr>\n",
       "      <th>3</th>\n",
       "      <td>d.7</td>\n",
       "      <td>Public Speaking</td>\n",
       "      <td>&lt;p&gt;In today’s business world, most of us need ...</td>\n",
       "      <td>&lt;p&gt;After studying the Public Speaking, you wil...</td>\n",
       "      <td>NaN</td>\n",
       "      <td>&lt;p&gt;4 hours, 30 min&lt;/p&gt;</td>\n",
       "    </tr>\n",
       "    <tr>\n",
       "      <th>4</th>\n",
       "      <td>d.8</td>\n",
       "      <td>Virtual Team Communication</td>\n",
       "      <td>&lt;p&gt;&lt;span style=\"color: rgb(78, 78, 78);\"&gt;This ...</td>\n",
       "      <td>&lt;p&gt;Here are the topics you will learn about by...</td>\n",
       "      <td>NaN</td>\n",
       "      <td>&lt;p&gt;Maximum 5 hours.&lt;/p&gt;</td>\n",
       "    </tr>\n",
       "  </tbody>\n",
       "</table>\n",
       "</div>"
      ],
      "text/plain": [
       "    ID                           Title  \\\n",
       "0  d.4          Emotional Intelligence   \n",
       "1  d.5     Stress Management & Balance   \n",
       "2  d.6  Time Management & Productivity   \n",
       "3  d.7                 Public Speaking   \n",
       "4  d.8      Virtual Team Communication   \n",
       "\n",
       "                                         Description  \\\n",
       "0  <p>Emotional intelligence is the skill at perc...   \n",
       "1  <p>This is a self-learning program for learnin...   \n",
       "2  <p>You'll learn strategies to better mangage y...   \n",
       "3  <p>In today’s business world, most of us need ...   \n",
       "4  <p><span style=\"color: rgb(78, 78, 78);\">This ...   \n",
       "\n",
       "                                          Objectives Solutions  \\\n",
       "0  <p>Here are the topics you will learn about by...       NaN   \n",
       "1  <p>At the end of this track you will be able t...       NaN   \n",
       "2  <p>At the end of this, you will be able to:</p...       NaN   \n",
       "3  <p>After studying the Public Speaking, you wil...       NaN   \n",
       "4  <p>Here are the topics you will learn about by...       NaN   \n",
       "\n",
       "                    Duration  \n",
       "0   <p>2 hour 35 minutes</p>  \n",
       "1         <p>48 minutes.</p>  \n",
       "2  <p>1 hour, 36 minutes</p>  \n",
       "3     <p>4 hours, 30 min</p>  \n",
       "4    <p>Maximum 5 hours.</p>  "
      ]
     },
     "execution_count": 76,
     "metadata": {},
     "output_type": "execute_result"
    }
   ],
   "source": [
    "df = pd.read_csv('data.csv', sep=';')\n",
    "df.head()\n"
   ]
  },
  {
   "cell_type": "code",
   "execution_count": 77,
   "metadata": {},
   "outputs": [],
   "source": [
    "df.Title = df.Title.fillna('')\n",
    "df.Description = df.Description.fillna('')\n",
    "df.Objectives = df.Objectives.fillna('')"
   ]
  },
  {
   "cell_type": "code",
   "execution_count": 78,
   "metadata": {},
   "outputs": [
    {
     "name": "stderr",
     "output_type": "stream",
     "text": [
      "C:\\Users\\tiest\\AppData\\Local\\Temp/ipykernel_7848/2766525828.py:1: FutureWarning: The default value of regex will change from True to False in a future version.\n",
      "  df['Duration'] = df['Duration'].str.replace('<.*?>', '')\n",
      "C:\\Users\\tiest\\AppData\\Local\\Temp/ipykernel_7848/2766525828.py:2: FutureWarning: The default value of regex will change from True to False in a future version.\n",
      "  df['Objectives'] = df['Objectives'].str.replace('<.*?>', '')\n",
      "C:\\Users\\tiest\\AppData\\Local\\Temp/ipykernel_7848/2766525828.py:3: FutureWarning: The default value of regex will change from True to False in a future version.\n",
      "  df['Duration'] = df['Duration'].str.replace('<.*?>', '')\n"
     ]
    }
   ],
   "source": [
    "df['Duration'] = df['Duration'].str.replace('<.*?>', '')\n",
    "df['Objectives'] = df['Objectives'].str.replace('<.*?>', '')\n",
    "df['Duration'] = df['Duration'].str.replace('<.*?>', '')"
   ]
  },
  {
   "cell_type": "code",
   "execution_count": 79,
   "metadata": {},
   "outputs": [],
   "source": [
    "titleVectorizer = feature_extraction.text.TfidfVectorizer()\n",
    "vecTitles = titleVectorizer.fit_transform(df.Title)\n",
    "\n",
    "descriptionVectorizer = feature_extraction.text.TfidfVectorizer()\n",
    "vecDescriptions = descriptionVectorizer.fit_transform(df.Description)\n",
    "\n",
    "objectivesVectorizer = feature_extraction.text.TfidfVectorizer()\n",
    "vecObjectives = objectivesVectorizer.fit_transform(df.Objectives)"
   ]
  },
  {
   "cell_type": "code",
   "execution_count": 80,
   "metadata": {},
   "outputs": [],
   "source": [
    "def createVectorList(vecs):\n",
    "    temp = []\n",
    "    for elem in vecs:\n",
    "        temp.append(elem.indices)\n",
    "    return temp\n",
    "\n",
    "titles = createVectorList(vecTitles)\n",
    "descriptions = createVectorList(vecDescriptions)\n",
    "objectives = createVectorList(vecObjectives)"
   ]
  },
  {
   "cell_type": "code",
   "execution_count": 81,
   "metadata": {},
   "outputs": [],
   "source": [
    "vectorizedDf = df.copy()"
   ]
  },
  {
   "cell_type": "code",
   "execution_count": 82,
   "metadata": {},
   "outputs": [],
   "source": [
    "vectorizedDf['Title'] = titles\n",
    "vectorizedDf['Description'] = descriptions\n",
    "vectorizedDf['Objectives'] = objectives\n"
   ]
  },
  {
   "cell_type": "code",
   "execution_count": 83,
   "metadata": {},
   "outputs": [
    {
     "data": {
      "text/html": [
       "<div>\n",
       "<style scoped>\n",
       "    .dataframe tbody tr th:only-of-type {\n",
       "        vertical-align: middle;\n",
       "    }\n",
       "\n",
       "    .dataframe tbody tr th {\n",
       "        vertical-align: top;\n",
       "    }\n",
       "\n",
       "    .dataframe thead th {\n",
       "        text-align: right;\n",
       "    }\n",
       "</style>\n",
       "<table border=\"1\" class=\"dataframe\">\n",
       "  <thead>\n",
       "    <tr style=\"text-align: right;\">\n",
       "      <th></th>\n",
       "      <th>ID</th>\n",
       "      <th>Title</th>\n",
       "      <th>Description</th>\n",
       "      <th>Objectives</th>\n",
       "      <th>Solutions</th>\n",
       "      <th>Duration</th>\n",
       "    </tr>\n",
       "  </thead>\n",
       "  <tbody>\n",
       "    <tr>\n",
       "      <th>0</th>\n",
       "      <td>d.4</td>\n",
       "      <td>[2854, 1994]</td>\n",
       "      <td>[13480, 23167, 23861, 16356, 4672, 13603, 2175...</td>\n",
       "      <td>[4934, 7714, 5826, 739, 1195, 3344, 2350, 3702...</td>\n",
       "      <td>NaN</td>\n",
       "      <td>2 hour 35 minutes</td>\n",
       "    </tr>\n",
       "    <tr>\n",
       "      <th>1</th>\n",
       "      <td>d.5</td>\n",
       "      <td>[771, 3323, 5386]</td>\n",
       "      <td>[13631, 11918, 8490, 4839, 11957, 20315, 11064...</td>\n",
       "      <td>[758, 3870, 6753, 5924, 7803, 3335, 197, 800, ...</td>\n",
       "      <td>NaN</td>\n",
       "      <td>48 minutes.</td>\n",
       "    </tr>\n",
       "    <tr>\n",
       "      <th>2</th>\n",
       "      <td>d.6</td>\n",
       "      <td>[4447, 5615, 3323]</td>\n",
       "      <td>[22985, 22804, 22983, 4084, 6931, 16486, 17406...</td>\n",
       "      <td>[775, 5404, 6504, 4892, 7063, 401, 5701, 7055,...</td>\n",
       "      <td>NaN</td>\n",
       "      <td>1 hour, 36 minutes</td>\n",
       "    </tr>\n",
       "    <tr>\n",
       "      <th>3</th>\n",
       "      <td>d.7</td>\n",
       "      <td>[5256, 4545]</td>\n",
       "      <td>[662, 15830, 15990, 21941, 4970, 20280, 4571, ...</td>\n",
       "      <td>[5319, 6723, 5188, 6642, 3427, 6732, 3707, 672...</td>\n",
       "      <td>NaN</td>\n",
       "      <td>4 hours, 30 min</td>\n",
       "    </tr>\n",
       "    <tr>\n",
       "      <th>4</th>\n",
       "      <td>d.8</td>\n",
       "      <td>[1395, 5539, 5897]</td>\n",
       "      <td>[20878, 14103, 11991, 8618, 11210, 19908, 1752...</td>\n",
       "      <td>[1439, 2516, 667, 829, 3278, 2765, 2168, 2916,...</td>\n",
       "      <td>NaN</td>\n",
       "      <td>Maximum 5 hours.</td>\n",
       "    </tr>\n",
       "  </tbody>\n",
       "</table>\n",
       "</div>"
      ],
      "text/plain": [
       "    ID               Title                                        Description  \\\n",
       "0  d.4        [2854, 1994]  [13480, 23167, 23861, 16356, 4672, 13603, 2175...   \n",
       "1  d.5   [771, 3323, 5386]  [13631, 11918, 8490, 4839, 11957, 20315, 11064...   \n",
       "2  d.6  [4447, 5615, 3323]  [22985, 22804, 22983, 4084, 6931, 16486, 17406...   \n",
       "3  d.7        [5256, 4545]  [662, 15830, 15990, 21941, 4970, 20280, 4571, ...   \n",
       "4  d.8  [1395, 5539, 5897]  [20878, 14103, 11991, 8618, 11210, 19908, 1752...   \n",
       "\n",
       "                                          Objectives Solutions  \\\n",
       "0  [4934, 7714, 5826, 739, 1195, 3344, 2350, 3702...       NaN   \n",
       "1  [758, 3870, 6753, 5924, 7803, 3335, 197, 800, ...       NaN   \n",
       "2  [775, 5404, 6504, 4892, 7063, 401, 5701, 7055,...       NaN   \n",
       "3  [5319, 6723, 5188, 6642, 3427, 6732, 3707, 672...       NaN   \n",
       "4  [1439, 2516, 667, 829, 3278, 2765, 2168, 2916,...       NaN   \n",
       "\n",
       "             Duration  \n",
       "0   2 hour 35 minutes  \n",
       "1         48 minutes.  \n",
       "2  1 hour, 36 minutes  \n",
       "3     4 hours, 30 min  \n",
       "4    Maximum 5 hours.  "
      ]
     },
     "execution_count": 83,
     "metadata": {},
     "output_type": "execute_result"
    }
   ],
   "source": [
    "vectorizedDf.head()"
   ]
  },
  {
   "cell_type": "code",
   "execution_count": null,
   "metadata": {},
   "outputs": [],
   "source": [
    "vectorizedDf.to_csv('vectorizedData.csv')"
   ]
  }
 ],
 "metadata": {
  "interpreter": {
   "hash": "2df3435dea5b8e8b270f2c83c3f35c567b820405c8eabe809b8c504ce1a32a7e"
  },
  "kernelspec": {
   "display_name": "Python 3.8.8 64-bit ('base': conda)",
   "language": "python",
   "name": "python3"
  },
  "language_info": {
   "codemirror_mode": {
    "name": "ipython",
    "version": 3
   },
   "file_extension": ".py",
   "mimetype": "text/x-python",
   "name": "python",
   "nbconvert_exporter": "python",
   "pygments_lexer": "ipython3",
   "version": "3.9.7"
  },
  "orig_nbformat": 4
 },
 "nbformat": 4,
 "nbformat_minor": 2
}
