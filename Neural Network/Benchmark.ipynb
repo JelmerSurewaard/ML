{
 "cells": [
  {
   "cell_type": "markdown",
   "source": [
    "Op welke wijze pak je de benchmark test aan?\r\n",
    "Stel de criteria op die belangrijk zijn voor jouw probleem.\r\n",
    "Stel een standaard test op waarmee je de verschillende algoritmen kan toetsen op deze criteria.\r\n",
    "Zoek eventueel naar standaard benchmark testen voor jouw probleem en/of doe inspiratie op door de publicaties door te nemen.\r\n",
    "Op welke wijze ga je de benchmark uitvoeren?\r\n",
    "Selecteer welke klassieke algoritmes je voor jouw probleem gaat uit testen.\r\n",
    "Bepaal op welke wijze je de ruwe data gaat opslaan.\r\n",
    "Middag: Presenteren resultaten benchmark test\r\n",
    "Je presenteert ten minste opdracht 1 en 2.\r\n",
    "Is het gelukt om de benchmark uit te voeren dan presenteer je de (voorlopige) resultaten."
   ],
   "metadata": {}
  }
 ],
 "metadata": {
  "orig_nbformat": 4,
  "language_info": {
   "name": "python"
  }
 },
 "nbformat": 4,
 "nbformat_minor": 2
}