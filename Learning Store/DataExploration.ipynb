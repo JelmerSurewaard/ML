{
 "cells": [
  {
   "cell_type": "code",
   "execution_count": 102,
   "metadata": {},
   "outputs": [],
   "source": [
    "import pandas as pd\n",
    "import numpy as np\n",
    "from sklearn import feature_extraction\n",
    "from sklearn.metrics.pairwise import cosine_similarity\n"
   ]
  },
  {
   "cell_type": "code",
   "execution_count": 103,
   "metadata": {},
   "outputs": [
    {
     "data": {
      "text/html": [
       "<div>\n",
       "<style scoped>\n",
       "    .dataframe tbody tr th:only-of-type {\n",
       "        vertical-align: middle;\n",
       "    }\n",
       "\n",
       "    .dataframe tbody tr th {\n",
       "        vertical-align: top;\n",
       "    }\n",
       "\n",
       "    .dataframe thead th {\n",
       "        text-align: right;\n",
       "    }\n",
       "</style>\n",
       "<table border=\"1\" class=\"dataframe\">\n",
       "  <thead>\n",
       "    <tr style=\"text-align: right;\">\n",
       "      <th></th>\n",
       "      <th>ID</th>\n",
       "      <th>Title</th>\n",
       "      <th>Description</th>\n",
       "      <th>Objectives</th>\n",
       "      <th>Solutions</th>\n",
       "      <th>Duration</th>\n",
       "    </tr>\n",
       "  </thead>\n",
       "  <tbody>\n",
       "    <tr>\n",
       "      <th>0</th>\n",
       "      <td>d.4</td>\n",
       "      <td>Emotional Intelligence</td>\n",
       "      <td>&lt;p&gt;Emotional intelligence is the skill at perc...</td>\n",
       "      <td>&lt;p&gt;Here are the topics you will learn about by...</td>\n",
       "      <td>NaN</td>\n",
       "      <td>&lt;p&gt;2 hour 35 minutes&lt;/p&gt;</td>\n",
       "    </tr>\n",
       "    <tr>\n",
       "      <th>1</th>\n",
       "      <td>d.5</td>\n",
       "      <td>Stress Management &amp; Balance</td>\n",
       "      <td>&lt;p&gt;This is a self-learning program for learnin...</td>\n",
       "      <td>&lt;p&gt;At the end of this track you will be able t...</td>\n",
       "      <td>NaN</td>\n",
       "      <td>&lt;p&gt;48 minutes.&lt;/p&gt;</td>\n",
       "    </tr>\n",
       "    <tr>\n",
       "      <th>2</th>\n",
       "      <td>d.6</td>\n",
       "      <td>Time Management &amp; Productivity</td>\n",
       "      <td>&lt;p&gt;You'll learn strategies to better mangage y...</td>\n",
       "      <td>&lt;p&gt;At the end of this, you will be able to:&lt;/p...</td>\n",
       "      <td>NaN</td>\n",
       "      <td>&lt;p&gt;1 hour, 36 minutes&lt;/p&gt;</td>\n",
       "    </tr>\n",
       "    <tr>\n",
       "      <th>3</th>\n",
       "      <td>d.7</td>\n",
       "      <td>Public Speaking</td>\n",
       "      <td>&lt;p&gt;In today’s business world, most of us need ...</td>\n",
       "      <td>&lt;p&gt;After studying the Public Speaking, you wil...</td>\n",
       "      <td>NaN</td>\n",
       "      <td>&lt;p&gt;4 hours, 30 min&lt;/p&gt;</td>\n",
       "    </tr>\n",
       "    <tr>\n",
       "      <th>4</th>\n",
       "      <td>d.8</td>\n",
       "      <td>Virtual Team Communication</td>\n",
       "      <td>&lt;p&gt;&lt;span style=\"color: rgb(78, 78, 78);\"&gt;This ...</td>\n",
       "      <td>&lt;p&gt;Here are the topics you will learn about by...</td>\n",
       "      <td>NaN</td>\n",
       "      <td>&lt;p&gt;Maximum 5 hours.&lt;/p&gt;</td>\n",
       "    </tr>\n",
       "  </tbody>\n",
       "</table>\n",
       "</div>"
      ],
      "text/plain": [
       "    ID                           Title  \\\n",
       "0  d.4          Emotional Intelligence   \n",
       "1  d.5     Stress Management & Balance   \n",
       "2  d.6  Time Management & Productivity   \n",
       "3  d.7                 Public Speaking   \n",
       "4  d.8      Virtual Team Communication   \n",
       "\n",
       "                                         Description  \\\n",
       "0  <p>Emotional intelligence is the skill at perc...   \n",
       "1  <p>This is a self-learning program for learnin...   \n",
       "2  <p>You'll learn strategies to better mangage y...   \n",
       "3  <p>In today’s business world, most of us need ...   \n",
       "4  <p><span style=\"color: rgb(78, 78, 78);\">This ...   \n",
       "\n",
       "                                          Objectives Solutions  \\\n",
       "0  <p>Here are the topics you will learn about by...       NaN   \n",
       "1  <p>At the end of this track you will be able t...       NaN   \n",
       "2  <p>At the end of this, you will be able to:</p...       NaN   \n",
       "3  <p>After studying the Public Speaking, you wil...       NaN   \n",
       "4  <p>Here are the topics you will learn about by...       NaN   \n",
       "\n",
       "                    Duration  \n",
       "0   <p>2 hour 35 minutes</p>  \n",
       "1         <p>48 minutes.</p>  \n",
       "2  <p>1 hour, 36 minutes</p>  \n",
       "3     <p>4 hours, 30 min</p>  \n",
       "4    <p>Maximum 5 hours.</p>  "
      ]
     },
     "execution_count": 103,
     "metadata": {},
     "output_type": "execute_result"
    }
   ],
   "source": [
    "df = pd.read_csv('data.csv', sep=';')\n",
    "df.head()"
   ]
  },
  {
   "cell_type": "code",
   "execution_count": 104,
   "metadata": {},
   "outputs": [],
   "source": [
    "df.Title = df.Title.fillna('')"
   ]
  },
  {
   "cell_type": "code",
   "execution_count": 105,
   "metadata": {},
   "outputs": [
    {
     "data": {
      "text/plain": [
       "<6204x6208 sparse matrix of type '<class 'numpy.float64'>'\n",
       "\twith 36393 stored elements in Compressed Sparse Row format>"
      ]
     },
     "execution_count": 105,
     "metadata": {},
     "output_type": "execute_result"
    }
   ],
   "source": [
    "vectorizer = feature_extraction.text.TfidfVectorizer()\n",
    "words = vectorizer.fit_transform(df.Title)\n",
    "words"
   ]
  },
  {
   "cell_type": "code",
   "execution_count": 106,
   "metadata": {},
   "outputs": [],
   "source": [
    "input_title = \"Developing with Python\"\n",
    "input_vector = vectorizer.transform([input_title])"
   ]
  },
  {
   "cell_type": "code",
   "execution_count": 107,
   "metadata": {},
   "outputs": [],
   "source": [
    "recommendations = cosine_similarity(input_vector, words)"
   ]
  },
  {
   "cell_type": "code",
   "execution_count": 113,
   "metadata": {},
   "outputs": [
    {
     "data": {
      "text/html": [
       "<div>\n",
       "<style scoped>\n",
       "    .dataframe tbody tr th:only-of-type {\n",
       "        vertical-align: middle;\n",
       "    }\n",
       "\n",
       "    .dataframe tbody tr th {\n",
       "        vertical-align: top;\n",
       "    }\n",
       "\n",
       "    .dataframe thead th {\n",
       "        text-align: right;\n",
       "    }\n",
       "</style>\n",
       "<table border=\"1\" class=\"dataframe\">\n",
       "  <thead>\n",
       "    <tr style=\"text-align: right;\">\n",
       "      <th></th>\n",
       "      <th>Title</th>\n",
       "      <th>Amount</th>\n",
       "    </tr>\n",
       "  </thead>\n",
       "  <tbody>\n",
       "    <tr>\n",
       "      <th>0</th>\n",
       "      <td>Developing with Python</td>\n",
       "      <td>1.000000</td>\n",
       "    </tr>\n",
       "    <tr>\n",
       "      <th>7</th>\n",
       "      <td>Data Visualization with Python</td>\n",
       "      <td>0.543920</td>\n",
       "    </tr>\n",
       "    <tr>\n",
       "      <th>6</th>\n",
       "      <td>MN-Python</td>\n",
       "      <td>0.485627</td>\n",
       "    </tr>\n",
       "    <tr>\n",
       "      <th>21</th>\n",
       "      <td>Advanced Python Topics: Migrating from Python ...</td>\n",
       "      <td>0.478181</td>\n",
       "    </tr>\n",
       "    <tr>\n",
       "      <th>27</th>\n",
       "      <td>Developing a Service Mindset</td>\n",
       "      <td>0.417635</td>\n",
       "    </tr>\n",
       "  </tbody>\n",
       "</table>\n",
       "</div>"
      ],
      "text/plain": [
       "                                                Title    Amount\n",
       "0                              Developing with Python  1.000000\n",
       "7                      Data Visualization with Python  0.543920\n",
       "6                                           MN-Python  0.485627\n",
       "21  Advanced Python Topics: Migrating from Python ...  0.478181\n",
       "27                       Developing a Service Mindset  0.417635"
      ]
     },
     "execution_count": 113,
     "metadata": {},
     "output_type": "execute_result"
    }
   ],
   "source": [
    "recs = pd.DataFrame(columns=['Title', 'Amount'])\n",
    "\n",
    "for idx, elem in enumerate(recommendations[0]):\n",
    "    if elem > 0.3:\n",
    "        recs = recs.append({'Title': df.Title[idx], 'Amount': elem}, ignore_index=True)\n",
    "\n",
    "recs = recs.sort_values(by='Amount', ascending=False)\n",
    "recs.head()"
   ]
  }
 ],
 "metadata": {
  "interpreter": {
   "hash": "e8790a543c3c710c0952e43f1f5d165bd667fc4bdade8f601f8e2bd61205c28a"
  },
  "kernelspec": {
   "display_name": "Python 3.9.7 64-bit ('Learning Store': conda)",
   "name": "python3"
  },
  "language_info": {
   "codemirror_mode": {
    "name": "ipython",
    "version": 3
   },
   "file_extension": ".py",
   "mimetype": "text/x-python",
   "name": "python",
   "nbconvert_exporter": "python",
   "pygments_lexer": "ipython3",
   "version": "3.9.7"
  },
  "orig_nbformat": 4
 },
 "nbformat": 4,
 "nbformat_minor": 2
}
