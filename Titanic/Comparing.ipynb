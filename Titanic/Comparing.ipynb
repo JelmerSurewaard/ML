{
 "cells": [
  {
   "cell_type": "code",
   "execution_count": 20,
   "source": [
    "import pandas as pd\r\n",
    "import seaborn as sns\r\n",
    "import matplotlib.pyplot as plt\r\n",
    "\r\n",
    "from sklearn.ensemble import GradientBoostingClassifier\r\n",
    "from sklearn import metrics\r\n",
    "from sklearn.model_selection import train_test_split\r\n",
    "from sklearn.tree import DecisionTreeClassifier\r\n",
    "from sklearn.ensemble import RandomForestClassifier\r\n",
    "from sklearn.linear_model import LogisticRegression\r\n",
    "\r\n",
    "df = pd.read_csv('train.csv')\r\n",
    "df.head()"
   ],
   "outputs": [
    {
     "output_type": "execute_result",
     "data": {
      "text/html": [
       "<div>\n",
       "<style scoped>\n",
       "    .dataframe tbody tr th:only-of-type {\n",
       "        vertical-align: middle;\n",
       "    }\n",
       "\n",
       "    .dataframe tbody tr th {\n",
       "        vertical-align: top;\n",
       "    }\n",
       "\n",
       "    .dataframe thead th {\n",
       "        text-align: right;\n",
       "    }\n",
       "</style>\n",
       "<table border=\"1\" class=\"dataframe\">\n",
       "  <thead>\n",
       "    <tr style=\"text-align: right;\">\n",
       "      <th></th>\n",
       "      <th>PassengerId</th>\n",
       "      <th>Survived</th>\n",
       "      <th>Pclass</th>\n",
       "      <th>Name</th>\n",
       "      <th>Sex</th>\n",
       "      <th>Age</th>\n",
       "      <th>SibSp</th>\n",
       "      <th>Parch</th>\n",
       "      <th>Ticket</th>\n",
       "      <th>Fare</th>\n",
       "      <th>Cabin</th>\n",
       "      <th>Embarked</th>\n",
       "    </tr>\n",
       "  </thead>\n",
       "  <tbody>\n",
       "    <tr>\n",
       "      <th>0</th>\n",
       "      <td>1</td>\n",
       "      <td>0</td>\n",
       "      <td>3</td>\n",
       "      <td>Braund, Mr. Owen Harris</td>\n",
       "      <td>male</td>\n",
       "      <td>22.0</td>\n",
       "      <td>1</td>\n",
       "      <td>0</td>\n",
       "      <td>A/5 21171</td>\n",
       "      <td>7.2500</td>\n",
       "      <td>NaN</td>\n",
       "      <td>S</td>\n",
       "    </tr>\n",
       "    <tr>\n",
       "      <th>1</th>\n",
       "      <td>2</td>\n",
       "      <td>1</td>\n",
       "      <td>1</td>\n",
       "      <td>Cumings, Mrs. John Bradley (Florence Briggs Th...</td>\n",
       "      <td>female</td>\n",
       "      <td>38.0</td>\n",
       "      <td>1</td>\n",
       "      <td>0</td>\n",
       "      <td>PC 17599</td>\n",
       "      <td>71.2833</td>\n",
       "      <td>C85</td>\n",
       "      <td>C</td>\n",
       "    </tr>\n",
       "    <tr>\n",
       "      <th>2</th>\n",
       "      <td>3</td>\n",
       "      <td>1</td>\n",
       "      <td>3</td>\n",
       "      <td>Heikkinen, Miss. Laina</td>\n",
       "      <td>female</td>\n",
       "      <td>26.0</td>\n",
       "      <td>0</td>\n",
       "      <td>0</td>\n",
       "      <td>STON/O2. 3101282</td>\n",
       "      <td>7.9250</td>\n",
       "      <td>NaN</td>\n",
       "      <td>S</td>\n",
       "    </tr>\n",
       "    <tr>\n",
       "      <th>3</th>\n",
       "      <td>4</td>\n",
       "      <td>1</td>\n",
       "      <td>1</td>\n",
       "      <td>Futrelle, Mrs. Jacques Heath (Lily May Peel)</td>\n",
       "      <td>female</td>\n",
       "      <td>35.0</td>\n",
       "      <td>1</td>\n",
       "      <td>0</td>\n",
       "      <td>113803</td>\n",
       "      <td>53.1000</td>\n",
       "      <td>C123</td>\n",
       "      <td>S</td>\n",
       "    </tr>\n",
       "    <tr>\n",
       "      <th>4</th>\n",
       "      <td>5</td>\n",
       "      <td>0</td>\n",
       "      <td>3</td>\n",
       "      <td>Allen, Mr. William Henry</td>\n",
       "      <td>male</td>\n",
       "      <td>35.0</td>\n",
       "      <td>0</td>\n",
       "      <td>0</td>\n",
       "      <td>373450</td>\n",
       "      <td>8.0500</td>\n",
       "      <td>NaN</td>\n",
       "      <td>S</td>\n",
       "    </tr>\n",
       "  </tbody>\n",
       "</table>\n",
       "</div>"
      ],
      "text/plain": [
       "   PassengerId  Survived  Pclass  \\\n",
       "0            1         0       3   \n",
       "1            2         1       1   \n",
       "2            3         1       3   \n",
       "3            4         1       1   \n",
       "4            5         0       3   \n",
       "\n",
       "                                                Name     Sex   Age  SibSp  \\\n",
       "0                            Braund, Mr. Owen Harris    male  22.0      1   \n",
       "1  Cumings, Mrs. John Bradley (Florence Briggs Th...  female  38.0      1   \n",
       "2                             Heikkinen, Miss. Laina  female  26.0      0   \n",
       "3       Futrelle, Mrs. Jacques Heath (Lily May Peel)  female  35.0      1   \n",
       "4                           Allen, Mr. William Henry    male  35.0      0   \n",
       "\n",
       "   Parch            Ticket     Fare Cabin Embarked  \n",
       "0      0         A/5 21171   7.2500   NaN        S  \n",
       "1      0          PC 17599  71.2833   C85        C  \n",
       "2      0  STON/O2. 3101282   7.9250   NaN        S  \n",
       "3      0            113803  53.1000  C123        S  \n",
       "4      0            373450   8.0500   NaN        S  "
      ]
     },
     "metadata": {},
     "execution_count": 20
    }
   ],
   "metadata": {}
  },
  {
   "cell_type": "code",
   "execution_count": 21,
   "source": [
    "tCols = ['Pclass', 'Sex', 'Age', 'Fare', 'SibSp', 'Parch']\r\n",
    "\r\n",
    "def convert_sex(Sex):\r\n",
    "    if Sex == 'male':\r\n",
    "        return 1\r\n",
    "    else:\r\n",
    "        return 0\r\n",
    "    \r\n",
    "df['Sex'] = df['Sex'].apply(convert_sex)\r\n",
    "df['Age'].fillna((df['Age'].mean()), inplace=True)\r\n",
    "\r\n",
    "df_train, df_test = train_test_split(df, test_size=0.3, stratify=df['Survived'], random_state=17)"
   ],
   "outputs": [],
   "metadata": {}
  },
  {
   "cell_type": "code",
   "execution_count": 22,
   "source": [
    "def test_model(model, dataset, features, targetFeature):\r\n",
    "    probs = model.predict_proba(dataset[features])\r\n",
    "    conf = pd.Series(map(lambda x: x[1], probs))\r\n",
    "    fpr, tpr, thresholds = metrics.roc_curve(dataset[targetFeature], conf, pos_label=1)\r\n",
    "    return metrics.auc(fpr, tpr)"
   ],
   "outputs": [],
   "metadata": {}
  },
  {
   "cell_type": "code",
   "execution_count": 23,
   "source": [
    "gbc = GradientBoostingClassifier(n_estimators=220, learning_rate=0.01)\r\n",
    "gbc.fit(df_train[tCols], df_train['Survived'])\r\n",
    "\r\n",
    "test_model(gbc, df_test, tCols, 'Survived')"
   ],
   "outputs": [
    {
     "output_type": "execute_result",
     "data": {
      "text/plain": [
       "0.8725507502206532"
      ]
     },
     "metadata": {},
     "execution_count": 23
    }
   ],
   "metadata": {}
  },
  {
   "cell_type": "code",
   "execution_count": 24,
   "source": [
    "dt = DecisionTreeClassifier(max_depth=3)\r\n",
    "dt.fit(df_train[tCols], df_train['Survived'])\r\n",
    "\r\n",
    "test_model(dt, df_test, tCols, 'Survived')"
   ],
   "outputs": [
    {
     "output_type": "execute_result",
     "data": {
      "text/plain": [
       "0.8385407472786114"
      ]
     },
     "metadata": {},
     "execution_count": 24
    }
   ],
   "metadata": {}
  },
  {
   "cell_type": "code",
   "execution_count": 25,
   "source": [
    "forest = RandomForestClassifier(n_estimators=25, random_state = 67)\r\n",
    "forest.fit(df_train[tCols], df_train['Survived'])\r\n",
    "\r\n",
    "test_model(forest, df_test, tCols, 'Survived')"
   ],
   "outputs": [
    {
     "output_type": "execute_result",
     "data": {
      "text/plain": [
       "0.8624007060900265"
      ]
     },
     "metadata": {},
     "execution_count": 25
    }
   ],
   "metadata": {}
  },
  {
   "cell_type": "code",
   "execution_count": 28,
   "source": [
    "lg = LogisticRegression(solver='lbfgs')\r\n",
    "lg.fit(df_train[tCols], df_train['Survived'])\r\n",
    "\r\n",
    "test_model(lg, df_test, tCols, 'Survived')"
   ],
   "outputs": [
    {
     "output_type": "execute_result",
     "data": {
      "text/plain": [
       "0.8327155045601647"
      ]
     },
     "metadata": {},
     "execution_count": 28
    }
   ],
   "metadata": {}
  },
  {
   "cell_type": "code",
   "execution_count": 29,
   "source": [
    "fSet1 = ['Pclass', 'Sex']\r\n",
    "fSet2 = ['Sex', 'Age']\r\n",
    "fSet3 = ['Pclass', 'Sex', 'Age']\r\n",
    "fSet4 = ['Pclass', 'Sex', 'Age', 'Fare']\r\n",
    "fSet5 = ['Pclass', 'Sex', 'Age', 'Fare', 'SibSp', 'Parch']\r\n",
    "sets = []\r\n",
    "sets.append(fSet1)\r\n",
    "sets.append(fSet2)\r\n",
    "sets.append(fSet3)\r\n",
    "sets.append(fSet4)\r\n",
    "sets.append(fSet5)"
   ],
   "outputs": [],
   "metadata": {}
  },
  {
   "cell_type": "code",
   "execution_count": 44,
   "source": [
    "models = pd.DataFrame(columns=['FeatureSet', 'Model', 'Auroc'])\r\n",
    "\r\n",
    "for s in sets:\r\n",
    "   model1 = GradientBoostingClassifier(n_estimators=220, learning_rate=0.01)\r\n",
    "   model1.fit(df_train[s], df_train['Survived'])\r\n",
    "   models = models.append({'FeatureSet':''.join(s), 'Model':'Gradiant Boosting', 'Auroc': test_model(model1, df_test, s, 'Survived')}, ignore_index=True)\r\n",
    "   \r\n",
    "   model2 = DecisionTreeClassifier(max_depth=3)\r\n",
    "   model2.fit(df_train[s], df_train['Survived'])\r\n",
    "   models = models.append({'FeatureSet':''.join(s), 'Model':'Decision Tree', 'Auroc': test_model(model2, df_test, s, 'Survived')}, ignore_index=True)\r\n",
    "   \r\n",
    "   model3 = RandomForestClassifier(n_estimators=25, random_state = 67)\r\n",
    "   model3.fit(df_train[s], df_train['Survived'])\r\n",
    "   models = models.append({'FeatureSet':''.join(s), 'Model':'Random Forest', 'Auroc': test_model(model3, df_test, s, 'Survived')}, ignore_index=True)\r\n",
    "   \r\n",
    "   model4 = LogisticRegression(solver='lbfgs')   \r\n",
    "   model4.fit(df_train[s], df_train['Survived'])\r\n",
    "   models = models.append({'FeatureSet':''.join(s), 'Model':'Logistic Regression', 'Auroc': test_model(model4, df_test, s, 'Survived')}, ignore_index=True)\r\n",
    "   \r\n",
    "sns.catplot(data=models, x='Model', y='Auroc', col='FeatureSet', kind='bar')"
   ],
   "outputs": [
    {
     "output_type": "execute_result",
     "data": {
      "text/plain": [
       "<seaborn.axisgrid.FacetGrid at 0x1d6a9227d60>"
      ]
     },
     "metadata": {},
     "execution_count": 44
    },
    {
     "output_type": "display_data",
     "data": {
      "image/png": "[encoded data removed]",
      "text/plain": [
       "<Figure size 1800x360 with 5 Axes>"
      ]
     },
     "metadata": {
      "needs_background": "light"
     }
    }
   ],
   "metadata": {}
  }
 ],
 "metadata": {
  "orig_nbformat": 4,
  "language_info": {
   "name": "python",
   "version": "3.9.6",
   "mimetype": "text/x-python",
   "codemirror_mode": {
    "name": "ipython",
    "version": 3
   },
   "pygments_lexer": "ipython3",
   "nbconvert_exporter": "python",
   "file_extension": ".py"
  },
  "kernelspec": {
   "name": "python3",
   "display_name": "Python 3.9.6 64-bit ('ml1': conda)"
  },
  "interpreter": {
   "hash": "288ee8f05feea3488945ad0a497a3c84d27cff5955fb664f72ea573ab4f8c8d9"
  }
 },
 "nbformat": 4,
 "nbformat_minor": 2
}