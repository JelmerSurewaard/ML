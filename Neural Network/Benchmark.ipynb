{
 "cells": [
  {
   "cell_type": "markdown",
   "source": [
    "## 1. Op welke wijze pak je de benchmark test aan?\r\n",
    "Wij testen 2 verschillende modellen tegen dezelfde dataset en vergelijken daarbij de resultaten. \r\n",
    "\r\n",
    "Als benchmark worden 2 ML algoritmes vergeleken, namelijk: Artificial Neural Network & Decision Tree.\r\n",
    "Hierbij wordt gelet op de precisie en de trainingstijden van de algoritmes. \r\n",
    "\r\n",
    "## 2. Stel de criteria op die belangrijk zijn voor jouw probleem.\r\n",
    "Accuracy, executie tijd, aantal tranen in liters van Jelmer\r\n",
    "\r\n",
    "Beide algoritmes moeten een accuraatheid geven. De algoritmes gebruiken dezelfde features en geven dezelfde output. (multi-classification)\r\n",
    "\r\n",
    "## 3. Stel een standaard test op waarmee je de verschillende algoritmen kan toetsen op deze criteria.\r\n",
    "Zie codeblock hieronder (#3)\r\n",
    "\r\n",
    "## 4. Zoek eventueel naar standaard benchmark testen voor jouw probleem en/of doe inspiratie op door de publicaties door te nemen.\r\n",
    "https://www.neuraldesigner.com/blog/how-to-benchmark-the-performance-of-machine-learning-platforms\r\n",
    "\r\n",
    "Zie interresante link over benchmark testen en machine learning\r\n",
    "\r\n",
    "## 5. Op welke wijze ga je de benchmark uitvoeren?\r\n",
    "Eerst de twee modellen trainen met dezelfde dataset, hierna de resultaten vergelijken. \r\n",
    "\r\n",
    "## 6. Selecteer welke klassieke algoritmes je voor jouw probleem gaat uit testen.\r\n",
    "Neural network en Decision tree\r\n",
    "\r\n",
    "## 7. Bepaal op welke wijze je de ruwe data gaat opslaan.\r\n",
    "Dataframe omzetten naar CSV bestand en opslaan. \r\n"
   ],
   "metadata": {}
  },
  {
   "cell_type": "code",
   "execution_count": 3,
   "source": [
    "# 3. \r\n",
    "\r\n",
    "import pickle\r\n",
    "import pandas as pd\r\n",
    "from tensorflow import keras \r\n",
    "import numpy as np\r\n",
    "from tensorflow.keras.utils import to_categorical\r\n",
    "\r\n",
    "# load test data\r\n",
    "wines = pd.read_csv('Test_wines.csv')\r\n",
    "qualities = pd.read_csv('Test_qualities.csv')\r\n",
    "\r\n",
    "\r\n",
    "# load saved .sav DecisionTree model and print results\r\n",
    "DT_model = pickle.load(open('DTmodel.sav', 'rb'))\r\n",
    "result_DT = DT_model.score(wines, qualities)\r\n",
    "\r\n",
    "\r\n",
    "\r\n",
    "# load saved Neural Network model and print results\r\n",
    "NN_model = keras.models.load_model('NN_Model')\r\n",
    "#result_NN = NN_model.evaluate(wines, qualities)\r\n",
    "qualities = to_categorical(qualities, 4)\r\n",
    "result_NN = NN_model.evaluate(wines, qualities)\r\n",
    "\r\n",
    "print(\"Accuracy DT: \" + str(result_DT))\r\n",
    "print(\"Accuracy NN: \" + str(result_NN[1]))\r\n",
    "\r\n",
    "\r\n"
   ],
   "outputs": [
    {
     "output_type": "stream",
     "name": "stdout",
     "text": [
      "10/10 [==============================] - 0s 548us/step - loss: 0.7518 - accuracy: 0.8070\n",
      "Accuracy DT: 0.8322784810126582\n",
      "Accuracy NN: 0.8069620132446289\n"
     ]
    }
   ],
   "metadata": {}
  }
 ],
 "metadata": {
  "orig_nbformat": 4,
  "language_info": {
   "name": "python",
   "version": "3.8.11",
   "mimetype": "text/x-python",
   "codemirror_mode": {
    "name": "ipython",
    "version": 3
   },
   "pygments_lexer": "ipython3",
   "nbconvert_exporter": "python",
   "file_extension": ".py"
  },
  "kernelspec": {
   "name": "python3",
   "display_name": "Python 3.8.11 64-bit ('py38real': conda)"
  },
  "interpreter": {
   "hash": "82b2914e5679cf832fcf40ffe10c3999761a927e65c5847a423a1edd7155115a"
  }
 },
 "nbformat": 4,
 "nbformat_minor": 2
}